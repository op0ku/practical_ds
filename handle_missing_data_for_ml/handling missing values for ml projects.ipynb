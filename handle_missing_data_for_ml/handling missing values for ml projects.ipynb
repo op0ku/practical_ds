{
 "cells": [
  {
   "cell_type": "markdown",
   "id": "a697f2ae",
   "metadata": {},
   "source": [
    "# Strategies for Handling Missing Values for Machine Learning Projects"
   ]
  },
  {
   "cell_type": "code",
   "execution_count": 4,
   "id": "bd2dc763",
   "metadata": {},
   "outputs": [],
   "source": [
    "import pandas as pd\n",
    "import seaborn as sns\n",
    "from sklearn.preprocessing import LabelEncoder\n",
    "from sklearn.impute import SimpleImputer, KNNImputer\n",
    "from sklearn.linear_model import LinearRegression\n",
    "from sklearn.model_selection import train_test_split\n",
    "from sklearn.ensemble import RandomForestClassifier, RandomForestRegressor"
   ]
  },
  {
   "cell_type": "code",
   "execution_count": null,
   "id": "720ca5d5",
   "metadata": {},
   "outputs": [],
   "source": [
    "#install xgboost\n",
    "%pip install xgboost"
   ]
  },
  {
   "cell_type": "code",
   "execution_count": 1,
   "id": "fa438443",
   "metadata": {},
   "outputs": [],
   "source": [
    "from xgboost import XGBClassifier"
   ]
  },
  {
   "cell_type": "markdown",
   "id": "49746e0c",
   "metadata": {},
   "source": [
    "**The types of missing data a data scientist has to deal with include**:\n",
    "\n",
    "- Missing Completely At Random(MCAR): there is no relationship between the missing data and the other values in the dataset. The missing values are completely independent of the observed values.\n",
    "\n",
    "- Missing At Random (MAR): missing data is correlated with other observed values. In this case the data is missing in a specific pattern. The pattern of missingness can be explained by a variable for which we have information about the cause of the missingness.\n",
    "\n",
    "- Missing Not At Random (MNAR): the missing data is due to unobserved data & cannot be explained by other observed data. There is pattern that cannot be explained by the observed data."
   ]
  },
  {
   "cell_type": "markdown",
   "id": "dbca5b3d",
   "metadata": {},
   "source": [
    "### 1. Missing Value Analysis\n",
    "\n",
    "understanding the nature of the missing values in the data"
   ]
  },
  {
   "cell_type": "code",
   "execution_count": 5,
   "id": "abbf4a44",
   "metadata": {},
   "outputs": [],
   "source": [
    "df = pd.read_csv('files/heart_disease_uci.csv')"
   ]
  },
  {
   "cell_type": "code",
   "execution_count": 6,
   "id": "65b0d2cd",
   "metadata": {},
   "outputs": [
    {
     "name": "stdout",
     "output_type": "stream",
     "text": [
      "<class 'pandas.core.frame.DataFrame'>\n",
      "RangeIndex: 920 entries, 0 to 919\n",
      "Data columns (total 16 columns):\n",
      " #   Column    Non-Null Count  Dtype  \n",
      "---  ------    --------------  -----  \n",
      " 0   id        920 non-null    int64  \n",
      " 1   age       920 non-null    int64  \n",
      " 2   sex       920 non-null    object \n",
      " 3   dataset   920 non-null    object \n",
      " 4   cp        920 non-null    object \n",
      " 5   trestbps  861 non-null    float64\n",
      " 6   chol      890 non-null    float64\n",
      " 7   fbs       830 non-null    object \n",
      " 8   restecg   918 non-null    object \n",
      " 9   thalch    865 non-null    float64\n",
      " 10  exang     865 non-null    object \n",
      " 11  oldpeak   858 non-null    float64\n",
      " 12  slope     611 non-null    object \n",
      " 13  ca        309 non-null    float64\n",
      " 14  thal      434 non-null    object \n",
      " 15  num       920 non-null    int64  \n",
      "dtypes: float64(5), int64(3), object(8)\n",
      "memory usage: 115.1+ KB\n"
     ]
    }
   ],
   "source": [
    "df.info()"
   ]
  },
  {
   "cell_type": "code",
   "execution_count": 7,
   "id": "d02ff624",
   "metadata": {},
   "outputs": [],
   "source": [
    "#function to return the proportion of missing values in the data\n",
    "def missing_values(df):\n",
    "    missing_values = df.isnull().sum()\n",
    "    missing_values_pct = (df.isnull().sum() / len(df)) * 100\n",
    "    \n",
    "    missing_values_table = pd.concat([missing_values,\n",
    "                                      missing_values_pct],\n",
    "                                      axis=1)\n",
    "    table_renamed_columns = missing_values_table.rename(columns={0: 'missing_values',\n",
    "                                                                     1: 'pct_of_total_values'})\n",
    "    table_renamed_columns = (table_renamed_columns[table_renamed_columns.iloc[:, 1] != 0]\n",
    "                                 .sort_values(by='pct_of_total_values', ascending=False)\n",
    "                                 .round(1))\n",
    "    \n",
    "    print(f'''Select dataframe has {str(df.shape[1])} columns.\n",
    "         There are {str(table_renamed_columns.shape[0])} columns that have missing values''')\n",
    "    \n",
    "    return table_renamed_columns"
   ]
  },
  {
   "cell_type": "code",
   "execution_count": 8,
   "id": "098df441",
   "metadata": {},
   "outputs": [
    {
     "name": "stdout",
     "output_type": "stream",
     "text": [
      "Select dataframe has 16 columns.\n",
      "         There are 10 columns that have missing values\n"
     ]
    },
    {
     "data": {
      "text/html": [
       "<div>\n",
       "<style scoped>\n",
       "    .dataframe tbody tr th:only-of-type {\n",
       "        vertical-align: middle;\n",
       "    }\n",
       "\n",
       "    .dataframe tbody tr th {\n",
       "        vertical-align: top;\n",
       "    }\n",
       "\n",
       "    .dataframe thead th {\n",
       "        text-align: right;\n",
       "    }\n",
       "</style>\n",
       "<table border=\"1\" class=\"dataframe\">\n",
       "  <thead>\n",
       "    <tr style=\"text-align: right;\">\n",
       "      <th></th>\n",
       "      <th>missing_values</th>\n",
       "      <th>pct_of_total_values</th>\n",
       "    </tr>\n",
       "  </thead>\n",
       "  <tbody>\n",
       "    <tr>\n",
       "      <th>ca</th>\n",
       "      <td>611</td>\n",
       "      <td>66.4</td>\n",
       "    </tr>\n",
       "    <tr>\n",
       "      <th>thal</th>\n",
       "      <td>486</td>\n",
       "      <td>52.8</td>\n",
       "    </tr>\n",
       "    <tr>\n",
       "      <th>slope</th>\n",
       "      <td>309</td>\n",
       "      <td>33.6</td>\n",
       "    </tr>\n",
       "    <tr>\n",
       "      <th>fbs</th>\n",
       "      <td>90</td>\n",
       "      <td>9.8</td>\n",
       "    </tr>\n",
       "    <tr>\n",
       "      <th>oldpeak</th>\n",
       "      <td>62</td>\n",
       "      <td>6.7</td>\n",
       "    </tr>\n",
       "    <tr>\n",
       "      <th>trestbps</th>\n",
       "      <td>59</td>\n",
       "      <td>6.4</td>\n",
       "    </tr>\n",
       "    <tr>\n",
       "      <th>exang</th>\n",
       "      <td>55</td>\n",
       "      <td>6.0</td>\n",
       "    </tr>\n",
       "    <tr>\n",
       "      <th>thalch</th>\n",
       "      <td>55</td>\n",
       "      <td>6.0</td>\n",
       "    </tr>\n",
       "    <tr>\n",
       "      <th>chol</th>\n",
       "      <td>30</td>\n",
       "      <td>3.3</td>\n",
       "    </tr>\n",
       "    <tr>\n",
       "      <th>restecg</th>\n",
       "      <td>2</td>\n",
       "      <td>0.2</td>\n",
       "    </tr>\n",
       "  </tbody>\n",
       "</table>\n",
       "</div>"
      ],
      "text/plain": [
       "          missing_values  pct_of_total_values\n",
       "ca                   611                 66.4\n",
       "thal                 486                 52.8\n",
       "slope                309                 33.6\n",
       "fbs                   90                  9.8\n",
       "oldpeak               62                  6.7\n",
       "trestbps              59                  6.4\n",
       "exang                 55                  6.0\n",
       "thalch                55                  6.0\n",
       "chol                  30                  3.3\n",
       "restecg                2                  0.2"
      ]
     },
     "execution_count": 8,
     "metadata": {},
     "output_type": "execute_result"
    }
   ],
   "source": [
    "missing_values_table = missing_values(df)\n",
    "missing_values_table"
   ]
  },
  {
   "cell_type": "code",
   "execution_count": 30,
   "id": "44fa5720",
   "metadata": {},
   "outputs": [
    {
     "data": {
      "text/plain": [
       "<Axes: >"
      ]
     },
     "execution_count": 30,
     "metadata": {},
     "output_type": "execute_result"
    },
    {
     "data": {
      "image/png": "[encoded data removed]",
      "text/plain": [
       "<Figure size 640x480 with 1 Axes>"
      ]
     },
     "metadata": {},
     "output_type": "display_data"
    }
   ],
   "source": [
    "#visualizing missingness in dataframe\n",
    "sns.heatmap(df.isnull(), cbar=False)"
   ]
  },
  {
   "cell_type": "markdown",
   "id": "5152f939",
   "metadata": {},
   "source": [
    "In the plot above, a missing value appears as a thin white line in each column.  \n",
    "It appears the column ca has the most missing values, followed by thal, then slope.\n",
    "Columns like age, sex and cp appear to have no missing value, since there is not  a single white line appearing along them.\n",
    "\n",
    "Also, it appears the most missing values in the rows are in the 540th  row and below"
   ]
  },
  {
   "cell_type": "markdown",
   "id": "451a576e",
   "metadata": {},
   "source": [
    "### 2. Methods for Handling Missing Data"
   ]
  },
  {
   "cell_type": "markdown",
   "id": "5fe160e6",
   "metadata": {},
   "source": [
    "**a.** **Using XGBoost to Ignore Missing Data**\n",
    "\n",
    "XGBoost is one of few models that can handle dataset with missing values and may not harm model performance.\n",
    "In the function for reading the data below, the categorical columns are encoded to improve model performance"
   ]
  },
  {
   "cell_type": "code",
   "execution_count": 9,
   "id": "af73286d",
   "metadata": {},
   "outputs": [],
   "source": [
    "# reusable function for reading data\n",
    "def read_data(path):\n",
    "    \"\"\"\n",
    "    Read the dataset, prepare and encode categorical columns\n",
    "\n",
    "    Parameter:\n",
    "    - path (str): The path to the dataset\n",
    "\n",
    "    Returns:\n",
    "    - df (pd.DataFrame): The dataset with encoded categorical columns\n",
    "    \"\"\"\n",
    "    df = pd.read_csv(path)\n",
    "    df['num'] = df['num'].replace({2: 1, 3: 1, 4: 1})\n",
    "    df = df.drop('id', axis=1)\n",
    "    df[df.select_dtypes('object').columns] = df.select_dtypes('object').apply(lambda x: x.astype('category'))\n",
    "    categorical_columns = df.select_dtypes('category').columns\n",
    "                            \n",
    "    #encode categorical columns\n",
    "    label_encoder = LabelEncoder()\n",
    "                                                                              \n",
    "    for column in categorical_columns:\n",
    "         df[column] = label_encoder.fit_transform(df[column])\n",
    "    return df                                              "
   ]
  },
  {
   "cell_type": "code",
   "execution_count": 10,
   "id": "d66bfef3",
   "metadata": {},
   "outputs": [
    {
     "name": "stdout",
     "output_type": "stream",
     "text": [
      "<class 'pandas.core.frame.DataFrame'>\n",
      "RangeIndex: 920 entries, 0 to 919\n",
      "Data columns (total 15 columns):\n",
      " #   Column    Non-Null Count  Dtype  \n",
      "---  ------    --------------  -----  \n",
      " 0   age       920 non-null    int64  \n",
      " 1   sex       920 non-null    int64  \n",
      " 2   dataset   920 non-null    int64  \n",
      " 3   cp        920 non-null    int64  \n",
      " 4   trestbps  861 non-null    float64\n",
      " 5   chol      890 non-null    float64\n",
      " 6   fbs       920 non-null    int64  \n",
      " 7   restecg   920 non-null    int64  \n",
      " 8   thalch    865 non-null    float64\n",
      " 9   exang     920 non-null    int64  \n",
      " 10  oldpeak   858 non-null    float64\n",
      " 11  slope     920 non-null    int64  \n",
      " 12  ca        309 non-null    float64\n",
      " 13  thal      920 non-null    int64  \n",
      " 14  num       920 non-null    int64  \n",
      "dtypes: float64(5), int64(10)\n",
      "memory usage: 107.9 KB\n"
     ]
    }
   ],
   "source": [
    "# read and process dataset\n",
    "path = 'files/heart_disease_uci.csv'\n",
    "df = read_data(path)\n",
    "\n",
    "df.info()"
   ]
  },
  {
   "cell_type": "code",
   "execution_count": 11,
   "id": "200780f2",
   "metadata": {},
   "outputs": [],
   "source": [
    "# function prepare the data for model training\n",
    "def split_dataset(df):\n",
    "    '''\n",
    "    Splits dataset into training and testing sets\n",
    "    \n",
    "    Parameters:\n",
    "    - df (pd.DataFrame): The input dataset.\n",
    "    \n",
    "    Returns:\n",
    "    - X_train, X_test, y_train, y_test: Training & testing sets for features & labels\n",
    "    '''\n",
    "    X = df.drop('num', axis=1)\n",
    "    y = df['num']\n",
    "    \n",
    "    X_train, X_test, y_train, y_test = train_test_split(X,\n",
    "                                                        y,\n",
    "                                                       test_size=.2,\n",
    "                                                       random_state=42)\n",
    "    return X_train, X_test, y_train, y_test"
   ]
  },
  {
   "cell_type": "code",
   "execution_count": null,
   "id": "15bcd1a0",
   "metadata": {},
   "outputs": [],
   "source": [
    "#train an Extreme Gradient Boosting Model\n",
    "def train_model_XGBoost(X_train, X_test, y_train, y_test):\n",
    "    '''\n",
    "    Trains an XGBoost model on the given training set\n",
    "    and evaluates its performance on the test set.\n",
    "    \n",
    "    Parameters:\n",
    "    - X_train, X_test, y_train, y_test : training set of features and the label\n",
    "\n",
    "    Returns:\n",
    "    - Accuracy (float) of the xgboost model\n",
    "    '''\n",
    "    \n",
    "    #instantiate and fit data to XGBoost model\n",
    "    xgboost = XGBClassifier()\n",
    "    xgboost.fit(X_train, y_train)\n",
    "    \n",
    "    #evaluate model with test set\n",
    "    accuracy = xgboost.score(X_test, y_test)\n",
    "    print(f'Accuracy: {accuracy}\\n')\n",
    "    return accuracy"
   ]
  },
  {
   "cell_type": "code",
   "execution_count": 17,
   "id": "ca2972c9",
   "metadata": {},
   "outputs": [
    {
     "name": "stdout",
     "output_type": "stream",
     "text": [
      "Accuracy: 0.8586956521739131\n",
      "\n"
     ]
    }
   ],
   "source": [
    "#split dataset into train and test sets\n",
    "X_train, X_test, y_train, y_test = split_dataset(df)\n",
    "\n",
    "#Train an XGBoost model on the dataset without handling missing values\n",
    "accuracy_no_handling = train_model_XGBoost(X_train, X_test, y_train, y_test)"
   ]
  },
  {
   "cell_type": "code",
   "execution_count": 18,
   "id": "aebb8699",
   "metadata": {},
   "outputs": [],
   "source": [
    "#dictionary to store accuracies for comparison\n",
    "accuracies = {}"
   ]
  },
  {
   "cell_type": "code",
   "execution_count": 19,
   "id": "c92d9f82",
   "metadata": {},
   "outputs": [
    {
     "name": "stdout",
     "output_type": "stream",
     "text": [
      "\n",
      "------------------\n",
      "\n",
      "\n",
      "After Imputation: \n",
      "\n"
     ]
    },
    {
     "data": {
      "text/html": [
       "<div>\n",
       "<style scoped>\n",
       "    .dataframe tbody tr th:only-of-type {\n",
       "        vertical-align: middle;\n",
       "    }\n",
       "\n",
       "    .dataframe tbody tr th {\n",
       "        vertical-align: top;\n",
       "    }\n",
       "\n",
       "    .dataframe thead th {\n",
       "        text-align: right;\n",
       "    }\n",
       "</style>\n",
       "<table border=\"1\" class=\"dataframe\">\n",
       "  <thead>\n",
       "    <tr style=\"text-align: right;\">\n",
       "      <th></th>\n",
       "      <th>age</th>\n",
       "      <th>sex</th>\n",
       "      <th>dataset</th>\n",
       "      <th>cp</th>\n",
       "      <th>trestbps</th>\n",
       "      <th>chol</th>\n",
       "      <th>fbs</th>\n",
       "      <th>restecg</th>\n",
       "      <th>thalch</th>\n",
       "      <th>exang</th>\n",
       "      <th>oldpeak</th>\n",
       "      <th>slope</th>\n",
       "      <th>ca</th>\n",
       "      <th>thal</th>\n",
       "    </tr>\n",
       "  </thead>\n",
       "  <tbody>\n",
       "    <tr>\n",
       "      <th>918</th>\n",
       "      <td>58</td>\n",
       "      <td>1</td>\n",
       "      <td>3</td>\n",
       "      <td>0</td>\n",
       "      <td>NaN</td>\n",
       "      <td>385.0</td>\n",
       "      <td>1</td>\n",
       "      <td>0</td>\n",
       "      <td>NaN</td>\n",
       "      <td>2</td>\n",
       "      <td>NaN</td>\n",
       "      <td>3</td>\n",
       "      <td>NaN</td>\n",
       "      <td>3</td>\n",
       "    </tr>\n",
       "  </tbody>\n",
       "</table>\n",
       "</div>"
      ],
      "text/plain": [
       "     age  sex  dataset  cp  trestbps   chol  fbs  restecg  thalch  exang  \\\n",
       "918   58    1        3   0       NaN  385.0    1        0     NaN      2   \n",
       "\n",
       "     oldpeak  slope  ca  thal  \n",
       "918      NaN      3 NaN     3  "
      ]
     },
     "execution_count": 19,
     "metadata": {},
     "output_type": "execute_result"
    }
   ],
   "source": [
    "#store accuracy of model in dictionary\n",
    "accuracies['xgboost'] = accuracy_no_handling\n",
    "\n",
    "# A specific data, after the procedure\n",
    "print(\"\\n------------------\\n\")\n",
    "print(\"\\nAfter Imputation: \\n\")\n",
    "X_train[(X_train['age']==58.0) & (X_train['sex']==1.0) & (X_train['dataset']==3.0) & (X_train['chol']==385)]"
   ]
  },
  {
   "cell_type": "markdown",
   "id": "ccb9fcf6",
   "metadata": {},
   "source": [
    "This method is preferable for creating a quick prototype at the beginning of the project.  \n",
    "If missing data represent some important patterns in data, this method may not yield the best accuracy."
   ]
  },
  {
   "cell_type": "markdown",
   "id": "14882545",
   "metadata": {},
   "source": [
    "**b.** **Delete Missing Data**\n",
    "\n",
    "Categories of deletion include:"
   ]
  },
  {
   "cell_type": "markdown",
   "id": "08314b2d",
   "metadata": {},
   "source": [
    "- Pairwise Deletion.  \n",
    "It is employed when the proportion of missing datapoints is less than 20% of the data.  \n",
    "It is ideal when missing values are randomly distributed  \n",
    "\n",
    "Most reasonable use case: MCAR"
   ]
  },
  {
   "cell_type": "code",
   "execution_count": 21,
   "id": "e6584416",
   "metadata": {},
   "outputs": [
    {
     "name": "stdout",
     "output_type": "stream",
     "text": [
      "<class 'pandas.core.frame.DataFrame'>\n",
      "Index: 308 entries, 0 to 759\n",
      "Data columns (total 15 columns):\n",
      " #   Column    Non-Null Count  Dtype  \n",
      "---  ------    --------------  -----  \n",
      " 0   age       308 non-null    int64  \n",
      " 1   sex       308 non-null    int64  \n",
      " 2   dataset   308 non-null    int64  \n",
      " 3   cp        308 non-null    int64  \n",
      " 4   trestbps  308 non-null    float64\n",
      " 5   chol      308 non-null    float64\n",
      " 6   fbs       308 non-null    int64  \n",
      " 7   restecg   308 non-null    int64  \n",
      " 8   thalch    308 non-null    float64\n",
      " 9   exang     308 non-null    int64  \n",
      " 10  oldpeak   308 non-null    float64\n",
      " 11  slope     308 non-null    int64  \n",
      " 12  ca        308 non-null    float64\n",
      " 13  thal      308 non-null    int64  \n",
      " 14  num       308 non-null    int64  \n",
      "dtypes: float64(5), int64(10)\n",
      "memory usage: 38.5 KB\n"
     ]
    }
   ],
   "source": [
    "#read & process dataset\n",
    "df_pairwise = df.dropna()\n",
    "df_pairwise.info()"
   ]
  },
  {
   "cell_type": "markdown",
   "id": "14653fac",
   "metadata": {},
   "source": [
    "From the output above missing values have been removed from the dataset  \n",
    "After peforming pairwise deletion on the data, a random forest will be trained on the data to see its performance"
   ]
  },
  {
   "cell_type": "code",
   "execution_count": 22,
   "id": "181ac305",
   "metadata": {},
   "outputs": [],
   "source": [
    "#split dataset into train and test sets\n",
    "X_train, X_test, y_train, y_test = split_dataset(df_pairwise)"
   ]
  },
  {
   "cell_type": "code",
   "execution_count": 25,
   "id": "f23a37b5",
   "metadata": {},
   "outputs": [],
   "source": [
    "#train the prepared data on a Random Forest Classifier\n",
    "def train_model_RF(X_train, X_test, y_train, y_test):\n",
    "    '''\n",
    "    Trains RandomForestClassifier model on the training set\n",
    "    and evaluates it on the test set.\n",
    "    \n",
    "    Parameter:\n",
    "    - X_train, X_test, y_train, y_test: training set\n",
    "    of features and label.\n",
    "    \n",
    "    Returns:\n",
    "    - accuracy (float) of Random Forest model\n",
    "    '''\n",
    "    #instantiate and train RandomForestClassifier\n",
    "    rf_model = RandomForestClassifier()\n",
    "    rf_model.fit(X_train, y_train)\n",
    "    \n",
    "    #Evaluate model with test set\n",
    "    accuracy = rf_model.score(X_test, y_test)\n",
    "    print(f'Accuracy: {accuracy}\\n')\n",
    "    return accuracy"
   ]
  },
  {
   "cell_type": "markdown",
   "id": "c1b1089a",
   "metadata": {},
   "source": [
    "NB: The Random Forest classifier function will be used to train the rest of the models"
   ]
  },
  {
   "cell_type": "code",
   "execution_count": 26,
   "id": "fa07df56",
   "metadata": {},
   "outputs": [
    {
     "name": "stdout",
     "output_type": "stream",
     "text": [
      "Accuracy: 0.8548387096774194\n",
      "\n"
     ]
    }
   ],
   "source": [
    "accuracy_pairwise = train_model_RF(X_train, X_test, y_train, y_test)\n",
    "\n",
    "accuracies['Pairwise'] = accuracy_pairwise"
   ]
  },
  {
   "cell_type": "markdown",
   "id": "b11a03e1",
   "metadata": {},
   "source": [
    "- Listwise Deletion  \n",
    "Deleting based on missingness in a list of specified variables (columns/features).  \n",
    "This method is useful when the missingness is not random and the missingness is not related to the target variable.  \n",
    "This method is not recommended for small datasets as it can lead to loss of information.  \n",
    "\n",
    "Reasonable use case: MCAR"
   ]
  },
  {
   "cell_type": "code",
   "execution_count": 28,
   "id": "d1699375",
   "metadata": {},
   "outputs": [],
   "source": [
    "#drop columns with missing values\n",
    "df_listwise = df.dropna(subset=['thal', 'slope', 'ca', 'fbs'])\n",
    "\n",
    "#split dataset into train and test sets\n",
    "X_train, X_test, y_train, y_test = split_dataset(df_listwise)"
   ]
  },
  {
   "cell_type": "code",
   "execution_count": 29,
   "id": "123e18fa",
   "metadata": {},
   "outputs": [
    {
     "name": "stdout",
     "output_type": "stream",
     "text": [
      "Accuracy: 0.8387096774193549\n",
      "\n"
     ]
    }
   ],
   "source": [
    "#save accuracy of model in dictionary\n",
    "accuracy_listwise = train_model_RF(X_train, X_test, y_train, y_test)\n",
    "\n",
    "accuracies['Listwise'] = accuracy_listwise"
   ]
  },
  {
   "cell_type": "markdown",
   "id": "f2a8e6cd",
   "metadata": {},
   "source": [
    "- Dropping Entire Columns  \n",
    "Used when columns to delete are of little to no importance for analysis  \n",
    "Or when they contain a large number of missing values\n",
    "\n",
    "Reasonable use case: any type of missingness, if feature is not relevant"
   ]
  },
  {
   "cell_type": "code",
   "execution_count": 30,
   "id": "00a2ff8f",
   "metadata": {},
   "outputs": [
    {
     "name": "stdout",
     "output_type": "stream",
     "text": [
      "Accuracy: 0.8260869565217391\n",
      "\n"
     ]
    }
   ],
   "source": [
    "#read and process dataset\n",
    "df_entire_col = df.dropna(axis=1)\n",
    "\n",
    "X_train, X_test, y_train, y_test = split_dataset(df_entire_col)\n",
    "\n",
    "accuracy_entire_col = train_model_RF(X_train, X_test, y_train, y_test)\n",
    "\n",
    "accuracies['Entire Columns'] = accuracy_entire_col"
   ]
  },
  {
   "cell_type": "markdown",
   "id": "70eb278c",
   "metadata": {},
   "source": [
    "#### 3. Statistical Methods for Handing Missing Data"
   ]
  },
  {
   "cell_type": "markdown",
   "id": "a36dae19",
   "metadata": {},
   "source": [
    "The mean is the most common missing values imputation method for numeric columns  \n",
    "It is not appropriate if data has outliers  \n",
    "\n",
    "The Median is best used when there are outliers in the dataset\n",
    "\n",
    "Reasonable use case: MCAR"
   ]
  },
  {
   "cell_type": "code",
   "execution_count": 31,
   "id": "0fcd7e20",
   "metadata": {},
   "outputs": [],
   "source": [
    "#function to train data on specified statistic\n",
    "def impute_and_train(X_train, X_test, y_train, y_test, strategy):\n",
    "    '''\n",
    "    Imputes missing values in dataset using specified strategy.\n",
    "    Trains a random forest model on training set,\n",
    "    and evaluates its performance on test set\n",
    "    \n",
    "    Parameters:\n",
    "    - X_train, X_test, y_train, y_test: dataset for training and evaluating the model\n",
    "    - strategy: imputation strategy to handle missing values ('mean' or 'median') for numeric columns\n",
    "    \n",
    "    Returns:\n",
    "    - accuracy (float): Accuracy score of the model on the test set.\n",
    "    '''\n",
    "    #impute missing values\n",
    "    imputer = SimpleImputer(strategy=strategy)\n",
    "    X_train_imputed = pd.DataFrame(imputer.fit_transform(X_train), columns=X_train.columns)\n",
    "    X_test_imputed = pd.DataFrame(imputer.transform(X_test), columns=X_test.columns)\n",
    "    \n",
    "    #train random forest model on imputed training set\n",
    "    rf_model = RandomForestClassifier()\n",
    "    rf_model.fit(X_train_imputed, y_train)\n",
    "    \n",
    "    #evaluate model with imputed test set\n",
    "    accuracy = rf_model.score(X_test_imputed, y_test)\n",
    "    \n",
    "    print(f'Imputation Strategy: {strategy}\\n')\n",
    "    print(f'Accuracy: {accuracy}\\n')\n",
    "    \n",
    "    return accuracy, X_train_imputed"
   ]
  },
  {
   "cell_type": "code",
   "execution_count": 32,
   "id": "2cf6d0be",
   "metadata": {},
   "outputs": [
    {
     "name": "stdout",
     "output_type": "stream",
     "text": [
      "Imputation Strategy: mean\n",
      "\n",
      "Accuracy: 0.842391304347826\n",
      "\n",
      "Imputation Strategy: median\n",
      "\n",
      "Accuracy: 0.8532608695652174\n",
      "\n"
     ]
    }
   ],
   "source": [
    "X_train, X_test, y_train, y_test = split_dataset(df)\n",
    "\n",
    "strategies = ['mean', 'median']\n",
    "\n",
    "for strategy in strategies:\n",
    "    accuracy, X_train_imputed = impute_and_train(X_train, X_test, y_train, y_test, strategy)\n",
    "    accuracies[strategy] = accuracy"
   ]
  },
  {
   "cell_type": "markdown",
   "id": "72c836a5",
   "metadata": {},
   "source": [
    "#### 4. Other Filling Methods (Replacing with an Arbitrary Value)"
   ]
  },
  {
   "cell_type": "markdown",
   "id": "802636ec",
   "metadata": {},
   "source": [
    "**a.**  **Forward Fill**  \n",
    "\n",
    "Filling missing value with corresponding value in the previous row\n",
    "\n",
    "Reasonable use case: MAR (especially in time series)"
   ]
  },
  {
   "cell_type": "code",
   "execution_count": 33,
   "id": "176cadad",
   "metadata": {},
   "outputs": [
    {
     "name": "stdout",
     "output_type": "stream",
     "text": [
      "<class 'pandas.core.frame.DataFrame'>\n",
      "RangeIndex: 920 entries, 0 to 919\n",
      "Data columns (total 15 columns):\n",
      " #   Column    Non-Null Count  Dtype  \n",
      "---  ------    --------------  -----  \n",
      " 0   age       920 non-null    int64  \n",
      " 1   sex       920 non-null    int64  \n",
      " 2   dataset   920 non-null    int64  \n",
      " 3   cp        920 non-null    int64  \n",
      " 4   trestbps  920 non-null    float64\n",
      " 5   chol      920 non-null    float64\n",
      " 6   fbs       920 non-null    int64  \n",
      " 7   restecg   920 non-null    int64  \n",
      " 8   thalch    920 non-null    float64\n",
      " 9   exang     920 non-null    int64  \n",
      " 10  oldpeak   920 non-null    float64\n",
      " 11  slope     920 non-null    int64  \n",
      " 12  ca        920 non-null    float64\n",
      " 13  thal      920 non-null    int64  \n",
      " 14  num       920 non-null    int64  \n",
      "dtypes: float64(5), int64(10)\n",
      "memory usage: 107.9 KB\n"
     ]
    }
   ],
   "source": [
    "#perform forward fill imputation\n",
    "df_forward = df.ffill()\n",
    "\n",
    "df_forward.info()"
   ]
  },
  {
   "cell_type": "code",
   "execution_count": 34,
   "id": "cccf0328",
   "metadata": {},
   "outputs": [
    {
     "name": "stdout",
     "output_type": "stream",
     "text": [
      "Accuracy: 0.842391304347826\n",
      "\n"
     ]
    }
   ],
   "source": [
    "#prepare and train model on forward fill data\n",
    "X_train, X_test, y_train, y_test = split_dataset(df_forward)\n",
    "\n",
    "accuracy_forward = train_model_RF(X_train, X_test, y_train, y_test)\n",
    "\n",
    "accuracies['Forward Fill'] = accuracy_forward"
   ]
  },
  {
   "cell_type": "markdown",
   "id": "7bbfa6cd",
   "metadata": {},
   "source": [
    "**b.** **Backward Fill**   \n",
    "\n",
    "here the missing value is filled with the value in the next row  \n",
    "\n",
    "Reasonable use case: MAR (especially in time series)"
   ]
  },
  {
   "cell_type": "code",
   "execution_count": 35,
   "id": "1ba27d23",
   "metadata": {},
   "outputs": [
    {
     "name": "stdout",
     "output_type": "stream",
     "text": [
      "<class 'pandas.core.frame.DataFrame'>\n",
      "RangeIndex: 920 entries, 0 to 919\n",
      "Data columns (total 15 columns):\n",
      " #   Column    Non-Null Count  Dtype  \n",
      "---  ------    --------------  -----  \n",
      " 0   age       920 non-null    int64  \n",
      " 1   sex       920 non-null    int64  \n",
      " 2   dataset   920 non-null    int64  \n",
      " 3   cp        920 non-null    int64  \n",
      " 4   trestbps  920 non-null    float64\n",
      " 5   chol      920 non-null    float64\n",
      " 6   fbs       920 non-null    int64  \n",
      " 7   restecg   920 non-null    int64  \n",
      " 8   thalch    920 non-null    float64\n",
      " 9   exang     920 non-null    int64  \n",
      " 10  oldpeak   920 non-null    float64\n",
      " 11  slope     920 non-null    int64  \n",
      " 12  ca        760 non-null    float64\n",
      " 13  thal      920 non-null    int64  \n",
      " 14  num       920 non-null    int64  \n",
      "dtypes: float64(5), int64(10)\n",
      "memory usage: 107.9 KB\n"
     ]
    }
   ],
   "source": [
    "#perform forward fill imputation\n",
    "df_backward = df.bfill()\n",
    "\n",
    "df_backward.info()"
   ]
  },
  {
   "cell_type": "code",
   "execution_count": 36,
   "id": "4bc791d6",
   "metadata": {},
   "outputs": [
    {
     "name": "stdout",
     "output_type": "stream",
     "text": [
      "Accuracy: 0.8695652173913043\n",
      "\n"
     ]
    }
   ],
   "source": [
    "#prepare and train model on backward fill data\n",
    "X_train, X_test, y_train, y_test = split_dataset(df_backward)\n",
    "\n",
    "accuracy_backward = train_model_RF(X_train, X_test, y_train, y_test)\n",
    "\n",
    "accuracies['Backward Fill'] = accuracy_backward"
   ]
  },
  {
   "cell_type": "markdown",
   "id": "e971f95d",
   "metadata": {},
   "source": [
    "**c.** **Interpolation**  \n",
    "Filling missing values with the estimated relationship between other values.\n",
    "\n",
    "Pandas has interpolation method with options: 'linear', 'polynomial', 'quadratic' etc  \n",
    "In this case the default 'linear' will be employed\n",
    "\n",
    "Reasonable use case: MAR"
   ]
  },
  {
   "cell_type": "code",
   "execution_count": 37,
   "id": "13d2101a",
   "metadata": {},
   "outputs": [
    {
     "name": "stdout",
     "output_type": "stream",
     "text": [
      "<class 'pandas.core.frame.DataFrame'>\n",
      "RangeIndex: 920 entries, 0 to 919\n",
      "Data columns (total 15 columns):\n",
      " #   Column    Non-Null Count  Dtype  \n",
      "---  ------    --------------  -----  \n",
      " 0   age       920 non-null    int64  \n",
      " 1   sex       920 non-null    int64  \n",
      " 2   dataset   920 non-null    int64  \n",
      " 3   cp        920 non-null    int64  \n",
      " 4   trestbps  920 non-null    float64\n",
      " 5   chol      920 non-null    float64\n",
      " 6   fbs       920 non-null    int64  \n",
      " 7   restecg   920 non-null    int64  \n",
      " 8   thalch    920 non-null    float64\n",
      " 9   exang     920 non-null    int64  \n",
      " 10  oldpeak   920 non-null    float64\n",
      " 11  slope     920 non-null    int64  \n",
      " 12  ca        920 non-null    float64\n",
      " 13  thal      920 non-null    int64  \n",
      " 14  num       920 non-null    int64  \n",
      "dtypes: float64(5), int64(10)\n",
      "memory usage: 107.9 KB\n"
     ]
    }
   ],
   "source": [
    "#perform interpolation\n",
    "df_interpolate = df.interpolate()\n",
    "\n",
    "df_interpolate.info()"
   ]
  },
  {
   "cell_type": "code",
   "execution_count": 38,
   "id": "2f78c260",
   "metadata": {},
   "outputs": [
    {
     "name": "stdout",
     "output_type": "stream",
     "text": [
      "Accuracy: 0.8532608695652174\n",
      "\n"
     ]
    }
   ],
   "source": [
    "#prepare and train model on df_interpolate\n",
    "X_train, X_test, y_train, y_test = split_dataset(df_interpolate)\n",
    "\n",
    "accuracy_interpolate = train_model_RF(X_train, X_test, y_train, y_test)\n",
    "\n",
    "accuracies['Linear Interpolation'] = accuracy_interpolate"
   ]
  },
  {
   "cell_type": "markdown",
   "id": "17f183fe",
   "metadata": {},
   "source": [
    "\n",
    "\n",
    "\n",
    "### 5. Advanced Imputation Techniques (Predicting Missing Values)\n",
    "\n",
    "Variable with missing values can be predicted if it correlates with another variable that does not have missing values.  \n",
    "This can be performed with regression or classification models"
   ]
  },
  {
   "cell_type": "markdown",
   "id": "ca225a81",
   "metadata": {},
   "source": [
    "**a.**  **K-Nearest Neighbors (KNN)**\n",
    "\n",
    "k-Nearest neighbors is a method of filling missing data based on the values of the nearest neighboring samples.  \n",
    "It works by finding the *k* nearest neighbors for each missing data point and imputing hte value as the weighted or unweighted mean (or median) of these neighbors.  \n",
    "This method is useful when there is some correlation between the features because it preserves the relationships between them.\n",
    "\n",
    "Reasonable use case: MAR"
   ]
  },
  {
   "cell_type": "code",
   "execution_count": 47,
   "id": "dd6692d7",
   "metadata": {},
   "outputs": [],
   "source": [
    "#defined reusable KNN Imputer function\n",
    "def knn_impute(X_train, X_test, k=5):\n",
    "    '''\n",
    "    Imputes missing values using the K-Nearest Neighbors(KNN) algorithm.\n",
    "    \n",
    "    Paramaters:\n",
    "    - X_train, X_test: dataset for training and evaluating the model\n",
    "    - k (int): number of neighbors for KNN imputation\n",
    "    \n",
    "    Returns:\n",
    "    imputed training and test sets with the labels\n",
    "    '''\n",
    "    #impute missing values with algorithm\n",
    "    knn_imputer = KNNImputer(n_neighbors=k)\n",
    "    X_train_imputed = pd.DataFrame(knn_imputer.fit_transform(X_train), columns=X_train.columns)\n",
    "    X_test_imputed = pd.DataFrame(knn_imputer.transform(X_test), columns=X_test.columns)\n",
    "    \n",
    "    return X_train_imputed, X_test_imputed"
   ]
  },
  {
   "cell_type": "code",
   "execution_count": 49,
   "id": "dc27238e",
   "metadata": {},
   "outputs": [],
   "source": [
    "X_train, X_test, y_train, y_test = split_dataset(df)\n",
    "\n",
    "X_train_imputed, X_test_imputed = knn_impute(X_train, X_test)"
   ]
  },
  {
   "cell_type": "code",
   "execution_count": 50,
   "id": "992ff580",
   "metadata": {},
   "outputs": [
    {
     "name": "stdout",
     "output_type": "stream",
     "text": [
      "Accuracy: 0.8369565217391305\n",
      "\n"
     ]
    }
   ],
   "source": [
    "accuracy_knn = train_model_RF(X_train_imputed, X_test_imputed, y_train, y_test)\n",
    "\n",
    "accuracies['KNN'] = accuracy_knn"
   ]
  },
  {
   "cell_type": "markdown",
   "id": "40628c53",
   "metadata": {},
   "source": [
    "#### b. Linear Regression\n",
    "This is usually a baseline model for predicting continuous variables.  \n",
    "In this case it is used to predict missing values of the dataset  \n",
    "This is done by using the columns with no missing values to predict the columns with missing values.  \n",
    "The missing value columns become the target, and the non-missing value columns become the features  \n",
    "\n",
    "Reasonable use case: MAR"
   ]
  },
  {
   "cell_type": "code",
   "execution_count": 56,
   "id": "7b2eb76e",
   "metadata": {},
   "outputs": [],
   "source": [
    "def linear_regression_impute(df, target_column, feature_columns):\n",
    "    '''\n",
    "    Imputes missing values using linear regression\n",
    "    \n",
    "    Parameters:\n",
    "    - df: pandas dataframe\n",
    "    - target_column: str, target column with missing values to be imputed\n",
    "    - feature_columns: list, columns to be used to predict missing values in the target_column\n",
    "    \n",
    "    Returns:\n",
    "    - pd.DataFrame, dataset with imputed missing values\n",
    "    '''\n",
    "    #separate missing & non-missing values\n",
    "    df_missing = df[df[target_column].isnull()]\n",
    "    df_not_missing = df.dropna(subset=[target_column])\n",
    "    \n",
    "    #create training and test sets for model\n",
    "    X_train = df_not_missing[feature_columns]\n",
    "    y_train = df_not_missing[target_column]\n",
    "    \n",
    "    #instantiate linear regression model\n",
    "    model = LinearRegression()\n",
    "    model.fit(X_train, y_train)\n",
    "    \n",
    "    #predict missing values\n",
    "    X_missing = df_missing[feature_columns]\n",
    "    predicted_values = model.predict(X_missing)\n",
    "    \n",
    "    #create dataset with imputed missing values\n",
    "    df_filled = df.copy()\n",
    "    df_filled.loc[df[target_column].isnull(), target_column] = predicted_values\n",
    "    \n",
    "    return df_filled"
   ]
  },
  {
   "cell_type": "code",
   "execution_count": 57,
   "id": "b42e97f7",
   "metadata": {},
   "outputs": [],
   "source": [
    "target_columns_to_impute = ['trestbps', 'chol', 'thalch', 'oldpeak', 'ca']\n",
    "feature_columns_for_imputation = ['age', 'sex', 'dataset', 'cp', 'fbs', 'restecg', 'exang', 'slope', 'thal']\n",
    "\n",
    "for target_column in target_columns_to_impute:\n",
    "    df_linear = linear_regression_impute(df, target_column, feature_columns_for_imputation)"
   ]
  },
  {
   "cell_type": "code",
   "execution_count": 58,
   "id": "13ed0c24",
   "metadata": {},
   "outputs": [
    {
     "name": "stdout",
     "output_type": "stream",
     "text": [
      "Accuracy: 0.8260869565217391\n",
      "\n"
     ]
    }
   ],
   "source": [
    "#split dataset\n",
    "X_train, X_test, y_train, y_test = split_dataset(df_linear)\n",
    "    \n",
    "#train a random forest model on the imputed dataset\n",
    "accuracy_lr = train_model_RF(X_train, X_test, y_train, y_test)\n",
    "\n",
    "#store accuracy\n",
    "accuracies['Linear Regression'] = accuracy_lr"
   ]
  },
  {
   "cell_type": "markdown",
   "id": "6bded089",
   "metadata": {},
   "source": [
    "**c.**  **Random Forest Regressor**  \n",
    "A Random Forest regressor is used to impute missing values, just like used in linear regression above.  \n",
    "Ensemble models usually have good accuracy & they don't predict outliers  \n",
    "Resistant to outliers & is useful for id'ing important feautures in dataset  \n",
    "\n",
    "Reasonable use case: MAR"
   ]
  },
  {
   "cell_type": "code",
   "execution_count": 59,
   "id": "63e27dd8",
   "metadata": {},
   "outputs": [],
   "source": [
    "def random_forest_impute(df, target_column, feature_columns):\n",
    "    '''\n",
    "    impute missing values using random forest.\n",
    "    \n",
    "    Parameters:\n",
    "    - df: pandas dataframe\n",
    "    - target_column: str, target column with missing values to be imputed\n",
    "    - feature_columns: list, columns to be used to predict missing values in the target_column\n",
    "    \n",
    "    Returns:\n",
    "    - pd.DataFrame, dataset with imputed missing values \n",
    "    '''\n",
    "    #separate missing & non-missing values\n",
    "    df_missing =  df[df[target_column].isnull()]\n",
    "    df_not_missing = df.dropna(subset=[target_column])\n",
    "    \n",
    "    #create train & test sets for model\n",
    "    X_train = df_not_missing[feature_columns]\n",
    "    y_train = df_not_missing[target_column]\n",
    "    \n",
    "    #instantiate and train random forest model on data\n",
    "    model = RandomForestRegressor(random_state=42)\n",
    "    model.fit(X_train, y_train)\n",
    "    \n",
    "    #predict missing values using the model\n",
    "    X_missing = df_missing[feature_columns]\n",
    "    predicted_values = model.predict(X_missing)\n",
    "    \n",
    "    #ceate a dataset with imputed missing values\n",
    "    df_filled = df.copy()\n",
    "    df_filled.loc[df[target_column].isnull(), target_column] = predicted_values\n",
    "    \n",
    "    return df_filled"
   ]
  },
  {
   "cell_type": "code",
   "execution_count": 60,
   "id": "5900aa7f",
   "metadata": {},
   "outputs": [],
   "source": [
    "for target_column in target_columns_to_impute:\n",
    "    rand_forest_data = random_forest_impute(df, target_column, feature_columns_for_imputation)"
   ]
  },
  {
   "cell_type": "code",
   "execution_count": 61,
   "id": "f5becc56",
   "metadata": {},
   "outputs": [
    {
     "name": "stdout",
     "output_type": "stream",
     "text": [
      "Accuracy: 0.842391304347826\n",
      "\n"
     ]
    }
   ],
   "source": [
    "X_train, X_test, y_train, y_test = split_dataset(rand_forest_data)\n",
    "\n",
    "accuracy_random_forest = train_model_RF(X_train, X_test, y_train, y_test)\n",
    "\n",
    "accuracies['Random Forest'] = accuracy_random_forest"
   ]
  },
  {
   "cell_type": "markdown",
   "id": "67d5933e",
   "metadata": {},
   "source": [
    "### Results"
   ]
  },
  {
   "cell_type": "code",
   "execution_count": 62,
   "id": "9692f73c",
   "metadata": {},
   "outputs": [
    {
     "data": {
      "text/html": [
       "<div>\n",
       "<style scoped>\n",
       "    .dataframe tbody tr th:only-of-type {\n",
       "        vertical-align: middle;\n",
       "    }\n",
       "\n",
       "    .dataframe tbody tr th {\n",
       "        vertical-align: top;\n",
       "    }\n",
       "\n",
       "    .dataframe thead th {\n",
       "        text-align: right;\n",
       "    }\n",
       "</style>\n",
       "<table border=\"1\" class=\"dataframe\">\n",
       "  <thead>\n",
       "    <tr style=\"text-align: right;\">\n",
       "      <th></th>\n",
       "      <th>Method</th>\n",
       "      <th>Accuracy</th>\n",
       "    </tr>\n",
       "  </thead>\n",
       "  <tbody>\n",
       "    <tr>\n",
       "      <th>7</th>\n",
       "      <td>Backward Fill</td>\n",
       "      <td>0.870</td>\n",
       "    </tr>\n",
       "    <tr>\n",
       "      <th>0</th>\n",
       "      <td>xgboost</td>\n",
       "      <td>0.859</td>\n",
       "    </tr>\n",
       "    <tr>\n",
       "      <th>1</th>\n",
       "      <td>Pairwise</td>\n",
       "      <td>0.855</td>\n",
       "    </tr>\n",
       "    <tr>\n",
       "      <th>5</th>\n",
       "      <td>median</td>\n",
       "      <td>0.853</td>\n",
       "    </tr>\n",
       "    <tr>\n",
       "      <th>8</th>\n",
       "      <td>Linear Interpolation</td>\n",
       "      <td>0.853</td>\n",
       "    </tr>\n",
       "    <tr>\n",
       "      <th>11</th>\n",
       "      <td>Random Forest</td>\n",
       "      <td>0.842</td>\n",
       "    </tr>\n",
       "    <tr>\n",
       "      <th>6</th>\n",
       "      <td>Forward Fill</td>\n",
       "      <td>0.842</td>\n",
       "    </tr>\n",
       "    <tr>\n",
       "      <th>4</th>\n",
       "      <td>mean</td>\n",
       "      <td>0.842</td>\n",
       "    </tr>\n",
       "    <tr>\n",
       "      <th>2</th>\n",
       "      <td>Listwise</td>\n",
       "      <td>0.839</td>\n",
       "    </tr>\n",
       "    <tr>\n",
       "      <th>9</th>\n",
       "      <td>KNN</td>\n",
       "      <td>0.837</td>\n",
       "    </tr>\n",
       "    <tr>\n",
       "      <th>3</th>\n",
       "      <td>Entire Columns</td>\n",
       "      <td>0.826</td>\n",
       "    </tr>\n",
       "    <tr>\n",
       "      <th>10</th>\n",
       "      <td>Linear Regression</td>\n",
       "      <td>0.826</td>\n",
       "    </tr>\n",
       "  </tbody>\n",
       "</table>\n",
       "</div>"
      ],
      "text/plain": [
       "                  Method  Accuracy\n",
       "7          Backward Fill     0.870\n",
       "0                xgboost     0.859\n",
       "1               Pairwise     0.855\n",
       "5                 median     0.853\n",
       "8   Linear Interpolation     0.853\n",
       "11         Random Forest     0.842\n",
       "6           Forward Fill     0.842\n",
       "4                   mean     0.842\n",
       "2               Listwise     0.839\n",
       "9                    KNN     0.837\n",
       "3         Entire Columns     0.826\n",
       "10     Linear Regression     0.826"
      ]
     },
     "execution_count": 62,
     "metadata": {},
     "output_type": "execute_result"
    }
   ],
   "source": [
    "df = pd.DataFrame(list(accuracies.items()), columns=['Method', 'Accuracy'])\n",
    "\n",
    "df['Accuracy'] = df['Accuracy'].apply(lambda x: round(x, 3))\n",
    "df.sort_values(by='Accuracy', ascending=False)"
   ]
  },
  {
   "cell_type": "markdown",
   "id": "96b3bc78",
   "metadata": {},
   "source": [
    "The result speaks for itself.  \n",
    "The best method for handling missing values in this particular dataset is Backward Fill, yielding 87% Accuracy when trained on a Random Forest Classifier\n",
    "\n",
    "It should be noted that the best imputation technique will heavily depend on the nature of dataset one is working with  \n",
    "It is advised one tries out these techniques and choose the one which yields the highest performance based on the problem being solved"
   ]
  },
  {
   "cell_type": "markdown",
   "id": "887077d3",
   "metadata": {},
   "source": [
    "Also there is no universally good method for tackling MNAR.  \n",
    "Requires careful modeling of the missingness mechanism.  \n",
    "Advanced techniques like multiple imputation with specialized models or pattern-mixture models are often needed.  \n",
    "The provided methods are generally problematic and can introduce significant bias."
   ]
  }
 ],
 "metadata": {
  "kernelspec": {
   "display_name": "ds_env",
   "language": "python",
   "name": "python3"
  },
  "language_info": {
   "codemirror_mode": {
    "name": "ipython",
    "version": 3
   },
   "file_extension": ".py",
   "mimetype": "text/x-python",
   "name": "python",
   "nbconvert_exporter": "python",
   "pygments_lexer": "ipython3",
   "version": "3.10.0"
  }
 },
 "nbformat": 4,
 "nbformat_minor": 5
}
