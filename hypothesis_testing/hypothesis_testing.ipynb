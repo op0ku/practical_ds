{
 "cells": [
  {
   "cell_type": "markdown",
   "metadata": {},
   "source": [
    "# Hypothesis Testing: A Case Study of Light Theme Vs Dark Theme"
   ]
  },
  {
   "cell_type": "markdown",
   "metadata": {},
   "source": [
    "### **Step 1**: Summarizing the data"
   ]
  },
  {
   "cell_type": "code",
   "execution_count": 97,
   "metadata": {},
   "outputs": [],
   "source": [
    "import pandas as pd\n",
    "from scipy.stats import ttest_ind, chi2_contingency"
   ]
  },
  {
   "cell_type": "code",
   "execution_count": 5,
   "metadata": {},
   "outputs": [
    {
     "name": "stdout",
     "output_type": "stream",
     "text": [
      "<class 'pandas.core.frame.DataFrame'>\n",
      "RangeIndex: 1000 entries, 0 to 999\n",
      "Data columns (total 10 columns):\n",
      " #   Column              Non-Null Count  Dtype  \n",
      "---  ------              --------------  -----  \n",
      " 0   Theme               1000 non-null   object \n",
      " 1   Click Through Rate  1000 non-null   float64\n",
      " 2   Conversion Rate     1000 non-null   float64\n",
      " 3   Bounce Rate         1000 non-null   float64\n",
      " 4   Scroll_Depth        1000 non-null   float64\n",
      " 5   Age                 1000 non-null   int64  \n",
      " 6   Location            1000 non-null   object \n",
      " 7   Session_Duration    1000 non-null   int64  \n",
      " 8   Purchases           1000 non-null   object \n",
      " 9   Added_to_Cart       1000 non-null   object \n",
      "dtypes: float64(4), int64(2), object(4)\n",
      "memory usage: 78.2+ KB\n"
     ]
    }
   ],
   "source": [
    "# import data\n",
    "data = pd.read_csv('./hypothesis_testing/website_ab_test.csv')\n",
    "data.info()"
   ]
  },
  {
   "cell_type": "code",
   "execution_count": 6,
   "metadata": {},
   "outputs": [
    {
     "data": {
      "text/html": [
       "<div>\n",
       "<style scoped>\n",
       "    .dataframe tbody tr th:only-of-type {\n",
       "        vertical-align: middle;\n",
       "    }\n",
       "\n",
       "    .dataframe tbody tr th {\n",
       "        vertical-align: top;\n",
       "    }\n",
       "\n",
       "    .dataframe thead th {\n",
       "        text-align: right;\n",
       "    }\n",
       "</style>\n",
       "<table border=\"1\" class=\"dataframe\">\n",
       "  <thead>\n",
       "    <tr style=\"text-align: right;\">\n",
       "      <th></th>\n",
       "      <th>Theme</th>\n",
       "      <th>Click Through Rate</th>\n",
       "      <th>Conversion Rate</th>\n",
       "      <th>Bounce Rate</th>\n",
       "      <th>Scroll_Depth</th>\n",
       "      <th>Age</th>\n",
       "      <th>Location</th>\n",
       "      <th>Session_Duration</th>\n",
       "      <th>Purchases</th>\n",
       "      <th>Added_to_Cart</th>\n",
       "    </tr>\n",
       "  </thead>\n",
       "  <tbody>\n",
       "    <tr>\n",
       "      <th>0</th>\n",
       "      <td>Light Theme</td>\n",
       "      <td>0.054920</td>\n",
       "      <td>0.282367</td>\n",
       "      <td>0.405085</td>\n",
       "      <td>72.489458</td>\n",
       "      <td>25</td>\n",
       "      <td>Chennai</td>\n",
       "      <td>1535</td>\n",
       "      <td>No</td>\n",
       "      <td>Yes</td>\n",
       "    </tr>\n",
       "    <tr>\n",
       "      <th>1</th>\n",
       "      <td>Light Theme</td>\n",
       "      <td>0.113932</td>\n",
       "      <td>0.032973</td>\n",
       "      <td>0.732759</td>\n",
       "      <td>61.858568</td>\n",
       "      <td>19</td>\n",
       "      <td>Pune</td>\n",
       "      <td>303</td>\n",
       "      <td>No</td>\n",
       "      <td>Yes</td>\n",
       "    </tr>\n",
       "    <tr>\n",
       "      <th>2</th>\n",
       "      <td>Dark Theme</td>\n",
       "      <td>0.323352</td>\n",
       "      <td>0.178763</td>\n",
       "      <td>0.296543</td>\n",
       "      <td>45.737376</td>\n",
       "      <td>47</td>\n",
       "      <td>Chennai</td>\n",
       "      <td>563</td>\n",
       "      <td>Yes</td>\n",
       "      <td>Yes</td>\n",
       "    </tr>\n",
       "    <tr>\n",
       "      <th>3</th>\n",
       "      <td>Light Theme</td>\n",
       "      <td>0.485836</td>\n",
       "      <td>0.325225</td>\n",
       "      <td>0.245001</td>\n",
       "      <td>76.305298</td>\n",
       "      <td>58</td>\n",
       "      <td>Pune</td>\n",
       "      <td>385</td>\n",
       "      <td>Yes</td>\n",
       "      <td>No</td>\n",
       "    </tr>\n",
       "    <tr>\n",
       "      <th>4</th>\n",
       "      <td>Light Theme</td>\n",
       "      <td>0.034783</td>\n",
       "      <td>0.196766</td>\n",
       "      <td>0.765100</td>\n",
       "      <td>48.927407</td>\n",
       "      <td>25</td>\n",
       "      <td>New Delhi</td>\n",
       "      <td>1437</td>\n",
       "      <td>No</td>\n",
       "      <td>No</td>\n",
       "    </tr>\n",
       "  </tbody>\n",
       "</table>\n",
       "</div>"
      ],
      "text/plain": [
       "         Theme  Click Through Rate  Conversion Rate  Bounce Rate  \\\n",
       "0  Light Theme            0.054920         0.282367     0.405085   \n",
       "1  Light Theme            0.113932         0.032973     0.732759   \n",
       "2   Dark Theme            0.323352         0.178763     0.296543   \n",
       "3  Light Theme            0.485836         0.325225     0.245001   \n",
       "4  Light Theme            0.034783         0.196766     0.765100   \n",
       "\n",
       "   Scroll_Depth  Age   Location  Session_Duration Purchases Added_to_Cart  \n",
       "0     72.489458   25    Chennai              1535        No           Yes  \n",
       "1     61.858568   19       Pune               303        No           Yes  \n",
       "2     45.737376   47    Chennai               563       Yes           Yes  \n",
       "3     76.305298   58       Pune               385       Yes            No  \n",
       "4     48.927407   25  New Delhi              1437        No            No  "
      ]
     },
     "execution_count": 6,
     "metadata": {},
     "output_type": "execute_result"
    }
   ],
   "source": [
    "data.head()"
   ]
  },
  {
   "cell_type": "code",
   "execution_count": null,
   "metadata": {},
   "outputs": [],
   "source": [
    "# function to return characteristics of the data\n",
    "from encodings.punycode import T\n",
    "\n",
    "\n",
    "def data_characteristics(data: pd.DataFrame | pd.Series):\n",
    "    print(f'Rows: {data.shape[0]}')\n",
    "    print(f'Columns: {data.shape[1]}')\n",
    "    print(f'\\nFeatures: {data.columns.tolist()}')\n",
    "    print(f'\\nMissing Values:\\n {data.isnull().sum()}')\n",
    "    print(f'\\nUnique Values:\\n {data.nunique()}')"
   ]
  },
  {
   "cell_type": "code",
   "execution_count": 15,
   "metadata": {},
   "outputs": [
    {
     "name": "stdout",
     "output_type": "stream",
     "text": [
      "Rows: 1000\n",
      "Columns: 10\n",
      "\n",
      "Features: ['Theme', 'Click Through Rate', 'Conversion Rate', 'Bounce Rate', 'Scroll_Depth', 'Age', 'Location', 'Session_Duration', 'Purchases', 'Added_to_Cart']\n",
      "\n",
      "Available Values:\n",
      " Theme                 0\n",
      "Click Through Rate    0\n",
      "Conversion Rate       0\n",
      "Bounce Rate           0\n",
      "Scroll_Depth          0\n",
      "Age                   0\n",
      "Location              0\n",
      "Session_Duration      0\n",
      "Purchases             0\n",
      "Added_to_Cart         0\n",
      "dtype: int64\n",
      "\n",
      "Unique Values:\n",
      " Theme                    2\n",
      "Click Through Rate    1000\n",
      "Conversion Rate       1000\n",
      "Bounce Rate           1000\n",
      "Scroll_Depth          1000\n",
      "Age                     48\n",
      "Location                 5\n",
      "Session_Duration       770\n",
      "Purchases                2\n",
      "Added_to_Cart            2\n",
      "dtype: int64\n"
     ]
    }
   ],
   "source": [
    "data_characteristics(data)"
   ]
  },
  {
   "cell_type": "code",
   "execution_count": 16,
   "metadata": {},
   "outputs": [
    {
     "data": {
      "text/plain": [
       "Theme        Click Through Rate  Conversion Rate  Bounce Rate  Scroll_Depth  Age  Location   Session_Duration  Purchases  Added_to_Cart\n",
       "Light Theme  0.499328            0.073991         0.559971     63.070712     26   New Delhi  1728              No         Yes              1\n",
       "Dark Theme   0.016901            0.183432         0.487972     66.572883     37   Bangalore  1580              No         Yes              1\n",
       "             0.019312            0.483299         0.670856     78.182973     45   New Delhi  635               Yes        No               1\n",
       "             0.019964            0.313511         0.711349     34.829731     47   Pune       403               No         No               1\n",
       "             0.020668            0.176972         0.783604     37.326832     33   Kolkata    1487              Yes        No               1\n",
       "                                                                                                                                          ..\n",
       "             0.029725            0.260283         0.515237     75.452792     42   Chennai    1787              Yes        No               1\n",
       "             0.030185            0.304490         0.626238     54.240092     52   Chennai    1510              No         Yes              1\n",
       "             0.030613            0.202547         0.293794     27.906328     30   Chennai    1584              Yes        No               1\n",
       "             0.031676            0.112745         0.241306     23.491075     29   Bangalore  866               Yes        Yes              1\n",
       "             0.032169            0.077234         0.271612     79.824726     25   Kolkata    339               No         No               1\n",
       "Name: count, Length: 1000, dtype: int64"
      ]
     },
     "execution_count": 16,
     "metadata": {},
     "output_type": "execute_result"
    }
   ],
   "source": [
    "# return frequency of unique values\n",
    "data.value_counts() #normalize=True)"
   ]
  },
  {
   "cell_type": "code",
   "execution_count": 17,
   "metadata": {},
   "outputs": [
    {
     "data": {
      "text/html": [
       "<div>\n",
       "<style scoped>\n",
       "    .dataframe tbody tr th:only-of-type {\n",
       "        vertical-align: middle;\n",
       "    }\n",
       "\n",
       "    .dataframe tbody tr th {\n",
       "        vertical-align: top;\n",
       "    }\n",
       "\n",
       "    .dataframe thead th {\n",
       "        text-align: right;\n",
       "    }\n",
       "</style>\n",
       "<table border=\"1\" class=\"dataframe\">\n",
       "  <thead>\n",
       "    <tr style=\"text-align: right;\">\n",
       "      <th></th>\n",
       "      <th>Click Through Rate</th>\n",
       "      <th>Conversion Rate</th>\n",
       "      <th>Bounce Rate</th>\n",
       "      <th>Scroll_Depth</th>\n",
       "      <th>Age</th>\n",
       "      <th>Session_Duration</th>\n",
       "    </tr>\n",
       "  </thead>\n",
       "  <tbody>\n",
       "    <tr>\n",
       "      <th>count</th>\n",
       "      <td>1000.000000</td>\n",
       "      <td>1000.000000</td>\n",
       "      <td>1000.000000</td>\n",
       "      <td>1000.000000</td>\n",
       "      <td>1000.000000</td>\n",
       "      <td>1000.000000</td>\n",
       "    </tr>\n",
       "    <tr>\n",
       "      <th>mean</th>\n",
       "      <td>0.256048</td>\n",
       "      <td>0.253312</td>\n",
       "      <td>0.505758</td>\n",
       "      <td>50.319494</td>\n",
       "      <td>41.528000</td>\n",
       "      <td>924.999000</td>\n",
       "    </tr>\n",
       "    <tr>\n",
       "      <th>std</th>\n",
       "      <td>0.139265</td>\n",
       "      <td>0.139092</td>\n",
       "      <td>0.172195</td>\n",
       "      <td>16.895269</td>\n",
       "      <td>14.114334</td>\n",
       "      <td>508.231723</td>\n",
       "    </tr>\n",
       "    <tr>\n",
       "      <th>min</th>\n",
       "      <td>0.010767</td>\n",
       "      <td>0.010881</td>\n",
       "      <td>0.200720</td>\n",
       "      <td>20.011738</td>\n",
       "      <td>18.000000</td>\n",
       "      <td>38.000000</td>\n",
       "    </tr>\n",
       "    <tr>\n",
       "      <th>25%</th>\n",
       "      <td>0.140794</td>\n",
       "      <td>0.131564</td>\n",
       "      <td>0.353609</td>\n",
       "      <td>35.655167</td>\n",
       "      <td>29.000000</td>\n",
       "      <td>466.500000</td>\n",
       "    </tr>\n",
       "    <tr>\n",
       "      <th>50%</th>\n",
       "      <td>0.253715</td>\n",
       "      <td>0.252823</td>\n",
       "      <td>0.514049</td>\n",
       "      <td>51.130712</td>\n",
       "      <td>42.000000</td>\n",
       "      <td>931.000000</td>\n",
       "    </tr>\n",
       "    <tr>\n",
       "      <th>75%</th>\n",
       "      <td>0.370674</td>\n",
       "      <td>0.373040</td>\n",
       "      <td>0.648557</td>\n",
       "      <td>64.666258</td>\n",
       "      <td>54.000000</td>\n",
       "      <td>1375.250000</td>\n",
       "    </tr>\n",
       "    <tr>\n",
       "      <th>max</th>\n",
       "      <td>0.499989</td>\n",
       "      <td>0.498916</td>\n",
       "      <td>0.799658</td>\n",
       "      <td>79.997108</td>\n",
       "      <td>65.000000</td>\n",
       "      <td>1797.000000</td>\n",
       "    </tr>\n",
       "  </tbody>\n",
       "</table>\n",
       "</div>"
      ],
      "text/plain": [
       "       Click Through Rate  Conversion Rate  Bounce Rate  Scroll_Depth  \\\n",
       "count         1000.000000      1000.000000  1000.000000   1000.000000   \n",
       "mean             0.256048         0.253312     0.505758     50.319494   \n",
       "std              0.139265         0.139092     0.172195     16.895269   \n",
       "min              0.010767         0.010881     0.200720     20.011738   \n",
       "25%              0.140794         0.131564     0.353609     35.655167   \n",
       "50%              0.253715         0.252823     0.514049     51.130712   \n",
       "75%              0.370674         0.373040     0.648557     64.666258   \n",
       "max              0.499989         0.498916     0.799658     79.997108   \n",
       "\n",
       "               Age  Session_Duration  \n",
       "count  1000.000000       1000.000000  \n",
       "mean     41.528000        924.999000  \n",
       "std      14.114334        508.231723  \n",
       "min      18.000000         38.000000  \n",
       "25%      29.000000        466.500000  \n",
       "50%      42.000000        931.000000  \n",
       "75%      54.000000       1375.250000  \n",
       "max      65.000000       1797.000000  "
      ]
     },
     "execution_count": 17,
     "metadata": {},
     "output_type": "execute_result"
    }
   ],
   "source": [
    "# return summary of numeric columns\n",
    "data.describe()"
   ]
  },
  {
   "cell_type": "markdown",
   "metadata": {},
   "source": [
    "### **Step 2**: Analysis of the dataset"
   ]
  },
  {
   "cell_type": "code",
   "execution_count": null,
   "metadata": {},
   "outputs": [],
   "source": [
    "# Group data by theme & return mean values for numeric columns\n",
    "theme_performance_numeric = (\n",
    "    data.groupby('Theme')\n",
    "        .mean(numeric_only=True)\n",
    "        .sort_values(ascending=False, by='Conversion Rate')\n",
    ")"
   ]
  },
  {
   "cell_type": "code",
   "execution_count": null,
   "metadata": {},
   "outputs": [
    {
     "data": {
      "text/html": [
       "<div>\n",
       "<style scoped>\n",
       "    .dataframe tbody tr th:only-of-type {\n",
       "        vertical-align: middle;\n",
       "    }\n",
       "\n",
       "    .dataframe tbody tr th {\n",
       "        vertical-align: top;\n",
       "    }\n",
       "\n",
       "    .dataframe thead th {\n",
       "        text-align: right;\n",
       "    }\n",
       "</style>\n",
       "<table border=\"1\" class=\"dataframe\">\n",
       "  <thead>\n",
       "    <tr style=\"text-align: right;\">\n",
       "      <th></th>\n",
       "      <th>Click Through Rate</th>\n",
       "      <th>Conversion Rate</th>\n",
       "      <th>Bounce Rate</th>\n",
       "      <th>Scroll_Depth</th>\n",
       "      <th>Age</th>\n",
       "      <th>Session_Duration</th>\n",
       "    </tr>\n",
       "    <tr>\n",
       "      <th>Theme</th>\n",
       "      <th></th>\n",
       "      <th></th>\n",
       "      <th></th>\n",
       "      <th></th>\n",
       "      <th></th>\n",
       "      <th></th>\n",
       "    </tr>\n",
       "  </thead>\n",
       "  <tbody>\n",
       "    <tr>\n",
       "      <th>Light Theme</th>\n",
       "      <td>0.247109</td>\n",
       "      <td>0.255459</td>\n",
       "      <td>0.499035</td>\n",
       "      <td>50.735232</td>\n",
       "      <td>41.734568</td>\n",
       "      <td>930.833333</td>\n",
       "    </tr>\n",
       "    <tr>\n",
       "      <th>Dark Theme</th>\n",
       "      <td>0.264501</td>\n",
       "      <td>0.251282</td>\n",
       "      <td>0.512115</td>\n",
       "      <td>49.926404</td>\n",
       "      <td>41.332685</td>\n",
       "      <td>919.482490</td>\n",
       "    </tr>\n",
       "  </tbody>\n",
       "</table>\n",
       "</div>"
      ],
      "text/plain": [
       "             Click Through Rate  Conversion Rate  Bounce Rate  Scroll_Depth  \\\n",
       "Theme                                                                         \n",
       "Light Theme            0.247109         0.255459     0.499035     50.735232   \n",
       "Dark Theme             0.264501         0.251282     0.512115     49.926404   \n",
       "\n",
       "                   Age  Session_Duration  \n",
       "Theme                                     \n",
       "Light Theme  41.734568        930.833333  \n",
       "Dark Theme   41.332685        919.482490  "
      ]
     },
     "execution_count": 22,
     "metadata": {},
     "output_type": "execute_result"
    }
   ],
   "source": [
    "theme_performance_numeric"
   ]
  },
  {
   "cell_type": "markdown",
   "metadata": {},
   "source": [
    "The following insights are revealed:  \n",
    "\n",
    "- Click Through Rate: Dark theme resulted in a higher CTR than light theme  \n",
    "- Conversion Rate: Light theme slightly leads with a conversion rate of 25.5%  \n",
    "- Bounce Rate: Dark theme is slightly higher for bounce rate at 51.2%  \n",
    "- Scroll_Depth: Users on light theme scroll further on average (50.74%) than users on dark theme  \n",
    "- Age: The average age of users is similar across themes  \n",
    "- Session_Duration: Users on average spend more time on light theme (930.8 seconds) than users on dark theme (919.5 seconds) "
   ]
  },
  {
   "cell_type": "code",
   "execution_count": 53,
   "metadata": {},
   "outputs": [],
   "source": [
    "# Group by themes & analyze by categoric columns\n",
    "theme_performance_categoric = (\n",
    "    data.groupby('Theme')\n",
    "        .agg({\n",
    "            'Location': lambda x: x.mode()[0],\n",
    "            'Purchases': lambda x: x.value_counts(normalize=True).iloc[0],\n",
    "            'Added_to_Cart': lambda x: x.value_counts(normalize=True).iloc[0],\n",
    "        })\n",
    "        .rename(columns={\n",
    "            'Location': 'Most Common Location',\n",
    "            'Purchases': 'Proportion of Purchases (Yes)',\n",
    "            'Added_to_Cart': 'Proportion of Added to Cart (Yes)'\n",
    "        })\n",
    ")"
   ]
  },
  {
   "cell_type": "code",
   "execution_count": 54,
   "metadata": {},
   "outputs": [
    {
     "data": {
      "text/html": [
       "<div>\n",
       "<style scoped>\n",
       "    .dataframe tbody tr th:only-of-type {\n",
       "        vertical-align: middle;\n",
       "    }\n",
       "\n",
       "    .dataframe tbody tr th {\n",
       "        vertical-align: top;\n",
       "    }\n",
       "\n",
       "    .dataframe thead th {\n",
       "        text-align: right;\n",
       "    }\n",
       "</style>\n",
       "<table border=\"1\" class=\"dataframe\">\n",
       "  <thead>\n",
       "    <tr style=\"text-align: right;\">\n",
       "      <th></th>\n",
       "      <th>Most Common Location</th>\n",
       "      <th>Proportion of Purchases (Yes)</th>\n",
       "      <th>Proportion of Added to Cart (Yes)</th>\n",
       "    </tr>\n",
       "    <tr>\n",
       "      <th>Theme</th>\n",
       "      <th></th>\n",
       "      <th></th>\n",
       "      <th></th>\n",
       "    </tr>\n",
       "  </thead>\n",
       "  <tbody>\n",
       "    <tr>\n",
       "      <th>Dark Theme</th>\n",
       "      <td>Bangalore</td>\n",
       "      <td>0.503891</td>\n",
       "      <td>0.519455</td>\n",
       "    </tr>\n",
       "    <tr>\n",
       "      <th>Light Theme</th>\n",
       "      <td>Chennai</td>\n",
       "      <td>0.530864</td>\n",
       "      <td>0.532922</td>\n",
       "    </tr>\n",
       "  </tbody>\n",
       "</table>\n",
       "</div>"
      ],
      "text/plain": [
       "            Most Common Location  Proportion of Purchases (Yes)  \\\n",
       "Theme                                                             \n",
       "Dark Theme             Bangalore                       0.503891   \n",
       "Light Theme              Chennai                       0.530864   \n",
       "\n",
       "             Proportion of Added to Cart (Yes)  \n",
       "Theme                                           \n",
       "Dark Theme                            0.519455  \n",
       "Light Theme                           0.532922  "
      ]
     },
     "execution_count": 54,
     "metadata": {},
     "output_type": "execute_result"
    }
   ],
   "source": [
    "theme_performance_categoric"
   ]
  },
  {
   "cell_type": "markdown",
   "metadata": {},
   "source": [
    "Further insights:  \n",
    "\n",
    "- It appears the most common location for Dark theme users is Bangalore, while that for Light theme users is Chennai  \n",
    "- Light theme users added more items to cart (53.3%) than Dark theme users (51.9%)\n",
    "- Light theme users made more purchases (53%) than Dark them users (50%)  \n"
   ]
  },
  {
   "cell_type": "markdown",
   "metadata": {},
   "source": [
    "Overvall, it appears Light theme outperformed Dark theme in causing users to convert, add items to cart and make purchases. However the differences are minor"
   ]
  },
  {
   "cell_type": "markdown",
   "metadata": {},
   "source": [
    "### **Step 3** Test of Hypothesis  \n",
    "\n",
    "The aim of the hypothesis is to test whether there is significant difference between the two independent treatments, Light theme and Dark theme across all the variables."
   ]
  },
  {
   "cell_type": "markdown",
   "metadata": {},
   "source": [
    "**a.** _Two Sample T-test for Numeric Variables_\n",
    "\n",
    "Two-Sample T-test will be used to perform the test procedures  \n",
    "Conventionally the significance level  **(α) = 0.05**"
   ]
  },
  {
   "cell_type": "code",
   "execution_count": 79,
   "metadata": {},
   "outputs": [],
   "source": [
    "# stored test statistics and p_values of variables\n",
    "t_statistics = {}\n",
    "p_values = {}"
   ]
  },
  {
   "cell_type": "code",
   "execution_count": null,
   "metadata": {},
   "outputs": [],
   "source": [
    "# function for performing two sample t-test on the numeric columns\n",
    "def perform_t_test(data, variable, alpha=.05):\n",
    "    \"\"\"\n",
    "    Performs two sample t-test on the specified variable from the dataset for the treatments, Light theme and Dark theme.\n",
    "\n",
    "    Parameters:\n",
    "    - data: the dataset for performing the test procedure.\n",
    "    - variable: the specified variable for the test to be performed on for the two treatments\n",
    "    - alpha: the level of significance for the test\n",
    "\n",
    "    Returns:\n",
    "    conclusion on whether the test was significant.\n",
    "    \"\"\"\n",
    "    # get the values of a specified variable for both themes\n",
    "    light_theme = data[data['Theme'] == 'Light Theme'][variable]\n",
    "    dark_theme = data[data['Theme'] == 'Dark Theme'][variable]\n",
    "    \n",
    "    # perform two sample t-test\n",
    "    test_statistic, p_value = ttest_ind(light_theme, dark_theme, equal_var=False)\n",
    "\n",
    "    # save output\n",
    "    t_statistics[variable] = test_statistic\n",
    "    p_values[variable] = p_value\n",
    "\n",
    "    # compare p-value with level of significance(α)\n",
    "    if p_value <= alpha:\n",
    "        print(\n",
    "            f\"Reject the null hypothesis.\\n\"\n",
    "            f\"With a p-value of {p_value:.4f} (less than {alpha}), there is convincing evidence\\n\"\n",
    "            f\"that a statistically significant difference exists in '{variable}'\\n\"\n",
    "            f\"between the Light Theme and Dark Theme.\\n\"\n",
    "        )\n",
    "    else:\n",
    "        print(\n",
    "            f\"Fail to reject the null hypothesis.\\n\"\n",
    "            f\"Since the p-value of {p_value:.4f} is greater than the alpha value of {alpha},\\n\"\n",
    "            f\"there is not enough evidence to conclude that a statistically significant\\n\"\n",
    "            f\"difference exists in '{variable}' between the Light Theme and Dark Theme.\\n\"\n",
    "        )"
   ]
  },
  {
   "cell_type": "code",
   "execution_count": 72,
   "metadata": {},
   "outputs": [
    {
     "data": {
      "text/plain": [
       "['Click Through Rate',\n",
       " 'Conversion Rate',\n",
       " 'Bounce Rate',\n",
       " 'Scroll_Depth',\n",
       " 'Age',\n",
       " 'Session_Duration']"
      ]
     },
     "execution_count": 72,
     "metadata": {},
     "output_type": "execute_result"
    }
   ],
   "source": [
    "#return variables for the test\n",
    "numeric_variables = [column for column in data.select_dtypes('number')]\n",
    "numeric_variables"
   ]
  },
  {
   "cell_type": "markdown",
   "metadata": {},
   "source": [
    "**Click Through Rate**\n",
    "- Null Hypothesis: There is no difference in click through rates between the Light theme and Dark theme.  \n",
    "- Alternate Hypothesis: There is a significant difference"
   ]
  },
  {
   "cell_type": "code",
   "execution_count": null,
   "metadata": {},
   "outputs": [
    {
     "name": "stdout",
     "output_type": "stream",
     "text": [
      "Reject the null hypothesis.\n",
      "With a p-value of 0.0482 (less than 0.05), there is convincing evidence\n",
      "that a statistically significant difference exists in 'Click Through Rate'\n",
      "between the Light Theme and Dark Theme.\n",
      "\n"
     ]
    }
   ],
   "source": [
    "# test for click through rate\n",
    "perform_t_test(data, 'Click Through Rate')"
   ]
  },
  {
   "cell_type": "markdown",
   "metadata": {},
   "source": [
    "**Conversion Rate**\n",
    "- Null Hypothesis: There is no difference in conversion rates between the Light theme and Dark theme.  \n",
    "- Alternate Hypothesis: There is a significant difference"
   ]
  },
  {
   "cell_type": "code",
   "execution_count": null,
   "metadata": {},
   "outputs": [
    {
     "name": "stdout",
     "output_type": "stream",
     "text": [
      "Fail to reject the null hypothesis.\n",
      "Since the p-value of 0.6350 is greater than the alpha value of 0.05,\n",
      "there is not enough evidence to conclude that a statistically significant\n",
      "difference exists in 'Conversion Rate' between the Light Theme and Dark Theme.\n",
      "\n"
     ]
    }
   ],
   "source": [
    "# test for conversion rate\n",
    "perform_t_test(data, 'Conversion Rate')"
   ]
  },
  {
   "cell_type": "markdown",
   "metadata": {},
   "source": [
    "**Bounce Rate**\n",
    "- Null Hypothesis: There is no difference in bounce rate between the Light theme and Dark theme.  \n",
    "- Alternate Hypothesis: There is a significant difference"
   ]
  },
  {
   "cell_type": "code",
   "execution_count": null,
   "metadata": {},
   "outputs": [
    {
     "name": "stdout",
     "output_type": "stream",
     "text": [
      "Fail to reject the null hypothesis.\n",
      "Since the p-value of 0.2297 is greater than the alpha value of 0.05,\n",
      "there is not enough evidence to conclude that a statistically significant\n",
      "difference exists in 'Bounce Rate' between the Light Theme and Dark Theme.\n",
      "\n"
     ]
    }
   ],
   "source": [
    "# test for bounce rate\n",
    "perform_t_test(data, 'Bounce Rate')"
   ]
  },
  {
   "cell_type": "markdown",
   "metadata": {},
   "source": [
    "**Scroll_Depth**\n",
    "- Null Hypothesis: There is no difference in Scroll_Depth between the Light theme and Dark theme.  \n",
    "- Alternate Hypothesis: There is a significant difference"
   ]
  },
  {
   "cell_type": "code",
   "execution_count": null,
   "metadata": {},
   "outputs": [
    {
     "name": "stdout",
     "output_type": "stream",
     "text": [
      "Fail to reject the null hypothesis.\n",
      "Since the p-value of 0.4497 is greater than the alpha value of 0.05,\n",
      "there is not enough evidence to conclude that a statistically significant\n",
      "difference exists in 'Scroll_Depth' between the Light Theme and Dark Theme.\n",
      "\n"
     ]
    }
   ],
   "source": [
    "# test for scroll depth rate\n",
    "perform_t_test(data, 'Scroll_Depth')"
   ]
  },
  {
   "cell_type": "code",
   "execution_count": 91,
   "metadata": {},
   "outputs": [
    {
     "data": {
      "text/html": [
       "<div>\n",
       "<style scoped>\n",
       "    .dataframe tbody tr th:only-of-type {\n",
       "        vertical-align: middle;\n",
       "    }\n",
       "\n",
       "    .dataframe tbody tr th {\n",
       "        vertical-align: top;\n",
       "    }\n",
       "\n",
       "    .dataframe thead th {\n",
       "        text-align: right;\n",
       "    }\n",
       "</style>\n",
       "<table border=\"1\" class=\"dataframe\">\n",
       "  <thead>\n",
       "    <tr style=\"text-align: right;\">\n",
       "      <th></th>\n",
       "      <th>metric</th>\n",
       "      <th>test_statistic</th>\n",
       "      <th>p_value</th>\n",
       "    </tr>\n",
       "  </thead>\n",
       "  <tbody>\n",
       "    <tr>\n",
       "      <th>0</th>\n",
       "      <td>Click Through Rate</td>\n",
       "      <td>-1.978171</td>\n",
       "      <td>0.048184</td>\n",
       "    </tr>\n",
       "    <tr>\n",
       "      <th>1</th>\n",
       "      <td>Conversion Rate</td>\n",
       "      <td>0.474849</td>\n",
       "      <td>0.634998</td>\n",
       "    </tr>\n",
       "    <tr>\n",
       "      <th>2</th>\n",
       "      <td>Bounce Rate</td>\n",
       "      <td>-1.201888</td>\n",
       "      <td>0.229692</td>\n",
       "    </tr>\n",
       "    <tr>\n",
       "      <th>3</th>\n",
       "      <td>Scroll_Depth</td>\n",
       "      <td>0.756228</td>\n",
       "      <td>0.449692</td>\n",
       "    </tr>\n",
       "  </tbody>\n",
       "</table>\n",
       "</div>"
      ],
      "text/plain": [
       "               metric  test_statistic   p_value\n",
       "0  Click Through Rate       -1.978171  0.048184\n",
       "1     Conversion Rate        0.474849  0.634998\n",
       "2         Bounce Rate       -1.201888  0.229692\n",
       "3        Scroll_Depth        0.756228  0.449692"
      ]
     },
     "execution_count": 91,
     "metadata": {},
     "output_type": "execute_result"
    }
   ],
   "source": [
    "# summary\n",
    "statistics = pd.DataFrame({'metric': list(t_statistics.keys()),\n",
    "                           'test_statistic': list(t_statistics.values()),\n",
    "                           'p_value': list(p_values.values())})\n",
    "statistics"
   ]
  },
  {
   "cell_type": "markdown",
   "metadata": {},
   "source": [
    "In conclusion, only Click Through Rate is influenced by the Theme a user uses.  \n",
    "And from the Analysis prior, Dark Theme has a higher Click Through Rate than the Light Theme."
   ]
  },
  {
   "cell_type": "markdown",
   "metadata": {},
   "source": [
    "**b.** _Chi-Square Test of Independence for Categorical Variables_\n",
    "\n",
    "Chi-Square Test of Independence will be used to access, whether the categorical variables are related to Theme\n",
    "Conventionally the significance level  **(α) = 0.05**"
   ]
  },
  {
   "cell_type": "code",
   "execution_count": 105,
   "metadata": {},
   "outputs": [],
   "source": [
    "# stored chi statistic and p_values of categorical variables\n",
    "chi2_statistics = {}\n",
    "chi2_p_values = {}"
   ]
  },
  {
   "cell_type": "code",
   "execution_count": 110,
   "metadata": {},
   "outputs": [],
   "source": [
    "def perform_chi2_test(data, variable, alpha=.05):\n",
    "        # Create a contingency table for 'Theme' and defined column\n",
    "        contingency_table = pd.crosstab(data['Theme'], data[variable])\n",
    "\n",
    "        # Perform the Chi-Square Test of Independence\n",
    "        chi2_stat, chi2_p_val, dof, expected = chi2_contingency(contingency_table)\n",
    "\n",
    "        # save output\n",
    "        chi2_statistics[variable] = chi2_stat\n",
    "        chi2_p_values[variable] = chi2_p_val\n",
    "        \n",
    "        \n",
    "        # Print  results\n",
    "        print(\"Chi-Square Test of Independence Results:\")\n",
    "        print(f\"Chi-Square Statistic: {chi2_stat:.4f}\")\n",
    "        print(f\"Degrees of Freedom: {dof}\")\n",
    "        print(f\"P-Value: {chi2_p_val:.4f}\\n\")\n",
    "\n",
    "        if chi2_p_val <= alpha:\n",
    "            print(\n",
    "                f\"Reject the null hypothesis.\\n\"\n",
    "                f\"With a p-value of {chi2_p_val:.4f} (less than {alpha}), there is convincing evidence\\n\"\n",
    "                f\"that {variable} is statistically significant to 'Theme'.\\n\"\n",
    "            )\n",
    "        else:\n",
    "            print(\n",
    "                f\"Fail to reject the null hypothesis.\\n\"\n",
    "                f\"Since the p-value of {chi2_p_val:.4f} is greater than the alpha value of {alpha},\\n\"\n",
    "                f\"there is not enough evidence to conclude that {variable} is\\n\"\n",
    "                f\"statistically significant to 'Theme'.\\n\"\n",
    "            )\n",
    "        \n",
    "        return contingency_table"
   ]
  },
  {
   "cell_type": "code",
   "execution_count": 100,
   "metadata": {},
   "outputs": [
    {
     "data": {
      "text/plain": [
       "['Location', 'Purchases', 'Added_to_Cart']"
      ]
     },
     "execution_count": 100,
     "metadata": {},
     "output_type": "execute_result"
    }
   ],
   "source": [
    "#return variables for the test\n",
    "categoric_variables = [column for column in data.select_dtypes('object') if column != 'Theme']\n",
    "categoric_variables"
   ]
  },
  {
   "cell_type": "markdown",
   "metadata": {},
   "source": [
    "**Location**\n",
    "- Null Hypothesis: There is no association between Themes and Locations.    \n",
    "- Alternate Hypothesis: There is an association"
   ]
  },
  {
   "cell_type": "code",
   "execution_count": 111,
   "metadata": {},
   "outputs": [
    {
     "name": "stdout",
     "output_type": "stream",
     "text": [
      "Chi-Square Test of Independence Results:\n",
      "Chi-Square Statistic: 1.6588\n",
      "Degrees of Freedom: 4\n",
      "P-Value: 0.7982\n",
      "\n",
      "Fail to reject the null hypothesis.\n",
      "Since the p-value of 0.7982 is greater than the alpha value of 0.05,\n",
      "there is not enough evidence to conclude that Location is\n",
      "statistically significant to 'Theme'.\n",
      "\n"
     ]
    },
    {
     "data": {
      "text/html": [
       "<div>\n",
       "<style scoped>\n",
       "    .dataframe tbody tr th:only-of-type {\n",
       "        vertical-align: middle;\n",
       "    }\n",
       "\n",
       "    .dataframe tbody tr th {\n",
       "        vertical-align: top;\n",
       "    }\n",
       "\n",
       "    .dataframe thead th {\n",
       "        text-align: right;\n",
       "    }\n",
       "</style>\n",
       "<table border=\"1\" class=\"dataframe\">\n",
       "  <thead>\n",
       "    <tr style=\"text-align: right;\">\n",
       "      <th>Location</th>\n",
       "      <th>Bangalore</th>\n",
       "      <th>Chennai</th>\n",
       "      <th>Kolkata</th>\n",
       "      <th>New Delhi</th>\n",
       "      <th>Pune</th>\n",
       "    </tr>\n",
       "    <tr>\n",
       "      <th>Theme</th>\n",
       "      <th></th>\n",
       "      <th></th>\n",
       "      <th></th>\n",
       "      <th></th>\n",
       "      <th></th>\n",
       "    </tr>\n",
       "  </thead>\n",
       "  <tbody>\n",
       "    <tr>\n",
       "      <th>Dark Theme</th>\n",
       "      <td>112</td>\n",
       "      <td>106</td>\n",
       "      <td>98</td>\n",
       "      <td>104</td>\n",
       "      <td>94</td>\n",
       "    </tr>\n",
       "    <tr>\n",
       "      <th>Light Theme</th>\n",
       "      <td>98</td>\n",
       "      <td>110</td>\n",
       "      <td>90</td>\n",
       "      <td>90</td>\n",
       "      <td>98</td>\n",
       "    </tr>\n",
       "  </tbody>\n",
       "</table>\n",
       "</div>"
      ],
      "text/plain": [
       "Location     Bangalore  Chennai  Kolkata  New Delhi  Pune\n",
       "Theme                                                    \n",
       "Dark Theme         112      106       98        104    94\n",
       "Light Theme         98      110       90         90    98"
      ]
     },
     "execution_count": 111,
     "metadata": {},
     "output_type": "execute_result"
    }
   ],
   "source": [
    "perform_chi2_test(data, 'Location')"
   ]
  },
  {
   "cell_type": "markdown",
   "metadata": {},
   "source": [
    "**Purchases**\n",
    "- Null Hypothesis: There is no association between the Themes and Purchases.    \n",
    "- Alternate Hypothesis: There is a an association"
   ]
  },
  {
   "cell_type": "code",
   "execution_count": 113,
   "metadata": {},
   "outputs": [
    {
     "name": "stdout",
     "output_type": "stream",
     "text": [
      "Chi-Square Test of Independence Results:\n",
      "Chi-Square Statistic: 0.6238\n",
      "Degrees of Freedom: 1\n",
      "P-Value: 0.4296\n",
      "\n",
      "Fail to reject the null hypothesis.\n",
      "Since the p-value of 0.4296 is greater than the alpha value of 0.05,\n",
      "there is not enough evidence to conclude that Purchases is\n",
      "statistically significant to 'Theme'.\n",
      "\n"
     ]
    },
    {
     "data": {
      "text/html": [
       "<div>\n",
       "<style scoped>\n",
       "    .dataframe tbody tr th:only-of-type {\n",
       "        vertical-align: middle;\n",
       "    }\n",
       "\n",
       "    .dataframe tbody tr th {\n",
       "        vertical-align: top;\n",
       "    }\n",
       "\n",
       "    .dataframe thead th {\n",
       "        text-align: right;\n",
       "    }\n",
       "</style>\n",
       "<table border=\"1\" class=\"dataframe\">\n",
       "  <thead>\n",
       "    <tr style=\"text-align: right;\">\n",
       "      <th>Purchases</th>\n",
       "      <th>No</th>\n",
       "      <th>Yes</th>\n",
       "    </tr>\n",
       "    <tr>\n",
       "      <th>Theme</th>\n",
       "      <th></th>\n",
       "      <th></th>\n",
       "    </tr>\n",
       "  </thead>\n",
       "  <tbody>\n",
       "    <tr>\n",
       "      <th>Dark Theme</th>\n",
       "      <td>255</td>\n",
       "      <td>259</td>\n",
       "    </tr>\n",
       "    <tr>\n",
       "      <th>Light Theme</th>\n",
       "      <td>228</td>\n",
       "      <td>258</td>\n",
       "    </tr>\n",
       "  </tbody>\n",
       "</table>\n",
       "</div>"
      ],
      "text/plain": [
       "Purchases     No  Yes\n",
       "Theme                \n",
       "Dark Theme   255  259\n",
       "Light Theme  228  258"
      ]
     },
     "execution_count": 113,
     "metadata": {},
     "output_type": "execute_result"
    }
   ],
   "source": [
    "perform_chi2_test(data, 'Purchases')"
   ]
  },
  {
   "cell_type": "markdown",
   "metadata": {},
   "source": [
    "**Added_to_Cart**\n",
    "- Null Hypothesis: There is no association between the Themes and Added_to_Cart.    \n",
    "- Alternate Hypothesis: There is a an association"
   ]
  },
  {
   "cell_type": "code",
   "execution_count": 114,
   "metadata": {},
   "outputs": [
    {
     "name": "stdout",
     "output_type": "stream",
     "text": [
      "Chi-Square Test of Independence Results:\n",
      "Chi-Square Statistic: 0.1317\n",
      "Degrees of Freedom: 1\n",
      "P-Value: 0.7167\n",
      "\n",
      "Fail to reject the null hypothesis.\n",
      "Since the p-value of 0.7167 is greater than the alpha value of 0.05,\n",
      "there is not enough evidence to conclude that Added_to_Cart is\n",
      "statistically significant to 'Theme'.\n",
      "\n"
     ]
    },
    {
     "data": {
      "text/html": [
       "<div>\n",
       "<style scoped>\n",
       "    .dataframe tbody tr th:only-of-type {\n",
       "        vertical-align: middle;\n",
       "    }\n",
       "\n",
       "    .dataframe tbody tr th {\n",
       "        vertical-align: top;\n",
       "    }\n",
       "\n",
       "    .dataframe thead th {\n",
       "        text-align: right;\n",
       "    }\n",
       "</style>\n",
       "<table border=\"1\" class=\"dataframe\">\n",
       "  <thead>\n",
       "    <tr style=\"text-align: right;\">\n",
       "      <th>Added_to_Cart</th>\n",
       "      <th>No</th>\n",
       "      <th>Yes</th>\n",
       "    </tr>\n",
       "    <tr>\n",
       "      <th>Theme</th>\n",
       "      <th></th>\n",
       "      <th></th>\n",
       "    </tr>\n",
       "  </thead>\n",
       "  <tbody>\n",
       "    <tr>\n",
       "      <th>Dark Theme</th>\n",
       "      <td>247</td>\n",
       "      <td>267</td>\n",
       "    </tr>\n",
       "    <tr>\n",
       "      <th>Light Theme</th>\n",
       "      <td>227</td>\n",
       "      <td>259</td>\n",
       "    </tr>\n",
       "  </tbody>\n",
       "</table>\n",
       "</div>"
      ],
      "text/plain": [
       "Added_to_Cart   No  Yes\n",
       "Theme                  \n",
       "Dark Theme     247  267\n",
       "Light Theme    227  259"
      ]
     },
     "execution_count": 114,
     "metadata": {},
     "output_type": "execute_result"
    }
   ],
   "source": [
    "perform_chi2_test(data, 'Added_to_Cart')"
   ]
  },
  {
   "cell_type": "code",
   "execution_count": 109,
   "metadata": {},
   "outputs": [
    {
     "data": {
      "text/html": [
       "<div>\n",
       "<style scoped>\n",
       "    .dataframe tbody tr th:only-of-type {\n",
       "        vertical-align: middle;\n",
       "    }\n",
       "\n",
       "    .dataframe tbody tr th {\n",
       "        vertical-align: top;\n",
       "    }\n",
       "\n",
       "    .dataframe thead th {\n",
       "        text-align: right;\n",
       "    }\n",
       "</style>\n",
       "<table border=\"1\" class=\"dataframe\">\n",
       "  <thead>\n",
       "    <tr style=\"text-align: right;\">\n",
       "      <th></th>\n",
       "      <th>metric</th>\n",
       "      <th>test_statistic</th>\n",
       "      <th>p_value</th>\n",
       "    </tr>\n",
       "  </thead>\n",
       "  <tbody>\n",
       "    <tr>\n",
       "      <th>0</th>\n",
       "      <td>Location</td>\n",
       "      <td>1.658776</td>\n",
       "      <td>0.798192</td>\n",
       "    </tr>\n",
       "    <tr>\n",
       "      <th>1</th>\n",
       "      <td>Purchases</td>\n",
       "      <td>0.623812</td>\n",
       "      <td>0.429634</td>\n",
       "    </tr>\n",
       "    <tr>\n",
       "      <th>2</th>\n",
       "      <td>Added_to_Cart</td>\n",
       "      <td>0.131699</td>\n",
       "      <td>0.716677</td>\n",
       "    </tr>\n",
       "  </tbody>\n",
       "</table>\n",
       "</div>"
      ],
      "text/plain": [
       "          metric  test_statistic   p_value\n",
       "0       Location        1.658776  0.798192\n",
       "1      Purchases        0.623812  0.429634\n",
       "2  Added_to_Cart        0.131699  0.716677"
      ]
     },
     "execution_count": 109,
     "metadata": {},
     "output_type": "execute_result"
    }
   ],
   "source": [
    "# summary\n",
    "statistics = pd.DataFrame({'metric': list(chi2_statistics.keys()),\n",
    "                           'test_statistic': list(chi2_statistics.values()),\n",
    "                           'p_value': list(chi2_p_values.values())})\n",
    "statistics"
   ]
  },
  {
   "cell_type": "markdown",
   "metadata": {},
   "source": [
    "To conclude the test shows the choice of Theme (Light Theme or Dark Theme) does not   \n",
    "appear to have an influence on whether users add items to cart, made a purchase or location the user is.  \n",
    "\n",
    "This is likely due to random chance rather than a meaningful relationship."
   ]
  }
 ],
 "metadata": {
  "kernelspec": {
   "display_name": "ds_env",
   "language": "python",
   "name": "python3"
  },
  "language_info": {
   "codemirror_mode": {
    "name": "ipython",
    "version": 3
   },
   "file_extension": ".py",
   "mimetype": "text/x-python",
   "name": "python",
   "nbconvert_exporter": "python",
   "pygments_lexer": "ipython3",
   "version": "3.10.0"
  }
 },
 "nbformat": 4,
 "nbformat_minor": 2
}
