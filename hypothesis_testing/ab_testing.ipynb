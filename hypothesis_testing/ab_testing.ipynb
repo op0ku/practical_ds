{
 "cells": [
  {
   "cell_type": "markdown",
   "id": "60490a7c",
   "metadata": {},
   "source": [
    "# A/B TESTING: Does Changing website From Light Theme to Dark Theme impact Business Metrics?"
   ]
  },
  {
   "cell_type": "code",
   "execution_count": 239,
   "id": "5bbaf33d",
   "metadata": {},
   "outputs": [],
   "source": [
    "import numpy as np\n",
    "from scipy import stats\n",
    "import matplotlib.pyplot as plt\n",
    "import pandas as pd\n",
    "\n",
    "import statsmodels.stats.api as sms"
   ]
  },
  {
   "cell_type": "code",
   "execution_count": 227,
   "id": "65dc1f9c",
   "metadata": {},
   "outputs": [],
   "source": [
    "import seaborn as sns\n",
    "from scipy.stats import ttest_ind, chi2_contingency\n",
    "from statsmodels.stats.power import TTestIndPower, GofChisquarePower"
   ]
  },
  {
   "cell_type": "markdown",
   "id": "ad189491",
   "metadata": {},
   "source": [
    "## **A/B Testing**  \n",
    "This method is for testing which Theme, Light or Dark, performs better on a metric that is continuous.   "
   ]
  },
  {
   "cell_type": "markdown",
   "id": "ecac7ec6",
   "metadata": {},
   "source": [
    "### Step 1: Problem Statement\n",
    "\n",
    "Assuming a client wants to test which of the two Themes, Light theme and Dark theme for their website will perform better on Click Through Rate\n",
    "\n",
    "Light theme which is the default is showed to a random group of users. This is the control group  \n",
    "Dark theme is showed to another random group. And this the treatment/testing group  \n",
    "\n",
    "The independent variable is Theme. We wan to know what the outcome of a chosen metric will be based on the type of Theme.  \n",
    "The dependent variable will be the chosen metric. This is what we are trying to measure"
   ]
  },
  {
   "cell_type": "markdown",
   "id": "e8f120ac",
   "metadata": {},
   "source": [
    "### Step 2: Define Hypothesis\n",
    "\n",
    "The hypothesis is defined as:  \n",
    "\n",
    "Null Hypothesis (Ho): Changing Light theme to Dark theme results in no significant impact on Click Through Rate  \n",
    "\n",
    "Alternate Hypothesis (Ha): there is a significant impact on Click Through Rate\n",
    "\n",
    "In the case we reject the null hypothesis and the impact is positive (increased metric value), the theme will be changed"
   ]
  },
  {
   "cell_type": "markdown",
   "id": "9de73bde",
   "metadata": {},
   "source": [
    "### Step 3: Design the Experiment  \n",
    "\n",
    "- _Define key metric_: metrics in this case: Click Through Rate\n",
    "\n",
    "- _Define specifications for the experiment_:  \n",
    "\n",
    "**Sample Size**: Number of observations required to achieve an impact, if there is an impact at all.  \n",
    "**Duration** : How long will it take to achieve an impact, if there is an impact at all  \n",
    "\n",
    "**Effect Size**: is the magnitude of the impact, if there is any at all.  \n",
    "                Conventionally, large impact = 0.8, medium impact = 0.5, small impact = 0.2\n",
    "\n",
    "**MDE (Minimum Detectable Effect, delta)**: is the least difference in the chosen metric between control and treatment groups we care about detecting from a business perspective.   \n",
    "\n",
    "**Significance Level (alpha)**: probability of being off if the null hypothesis is true.  \n",
    "In this case the probalbility of detecting conventionally alpha = 0.05  \n",
    "\n",
    "**power**: Probability of detecting an effect if the alternate hypothesis is true. conventionally power = 0.8"
   ]
  },
  {
   "cell_type": "markdown",
   "id": "29da92be",
   "metadata": {},
   "source": [
    "### Step 4: Run the Experiment"
   ]
  },
  {
   "cell_type": "markdown",
   "id": "86e1701f",
   "metadata": {},
   "source": [
    "**a. Power Analysis: estimate sample size per group**  \n",
    "\n",
    "It is based on 4 variables namely, Effect Size, Sample Size, Significance Level & Power.  \n",
    "It is used to determine the value of Sample Size, assuming the rest of the variables are known   \n",
    "\n",
    "It is required to find the number of users needed by each group to achieve the chosen MDE"
   ]
  },
  {
   "cell_type": "code",
   "execution_count": null,
   "id": "e623a050",
   "metadata": {},
   "outputs": [],
   "source": [
    "# # estimate required sample size for a chi squared test\n",
    "# chi_square_power = GofChiSquarePower()\n",
    "# sample_size = np.ceil(chi_square_power.solve_power(\n",
    "#     effect_size=effect_size,\n",
    "#     alpha=alpha,\n",
    "#     power=power\n",
    "# ))\n",
    "\n",
    "# print(f\"Estimated Sample size: {sample_size}\")"
   ]
  },
  {
   "cell_type": "markdown",
   "id": "42a97525",
   "metadata": {},
   "source": [
    "This standardized effect size (referred to as Cohen's d) is a unit-free measure that allows you to compare the magnitude of an effect across the metric, even if they are on different scales  "
   ]
  },
  {
   "cell_type": "code",
   "execution_count": 201,
   "id": "201f4251",
   "metadata": {},
   "outputs": [],
   "source": [
    "# define specifications\n",
    "alpha = .05\n",
    "power = .8\n",
    "delta = .18    #assuming MDE of 18%\n",
    "ratio = 1   # assume equal group sizes for dark and light themes"
   ]
  },
  {
   "cell_type": "code",
   "execution_count": 202,
   "id": "422acf9b",
   "metadata": {},
   "outputs": [],
   "source": [
    "# estimate sample size for the test\n",
    "power_analysis = TTestIndPower()\n",
    "\n",
    "n = power_analysis.solve_power(effect_size=delta,\n",
    "                                         alpha=alpha,\n",
    "                                         power=power)\n",
    "sample_size = np.ceil(n)"
   ]
  },
  {
   "cell_type": "code",
   "execution_count": 203,
   "id": "9122c155",
   "metadata": {},
   "outputs": [
    {
     "name": "stdout",
     "output_type": "stream",
     "text": [
      "Estimated Sample size per group: 486.0.\n",
      "This is the least number of users required to carry out the experiment for each Theme type\n"
     ]
    }
   ],
   "source": [
    "print(f'Estimated Sample size per group: {np.ceil(sample_size)}.\\n'\n",
    "      f'This is the least number of users required to carry out the experiment for each Theme type')"
   ]
  },
  {
   "cell_type": "markdown",
   "id": "035f39a9",
   "metadata": {},
   "source": [
    "Our business representatives want to see that at least Dark Theme impacts CTR by 18%  over Light Theme before the website's theme is changed.  \n",
    "\n",
    "Next step will be setting up experiment to collect the data on the Themes.\n",
    "From the Power Test we will need at least 486 users for each group to test this.  \n",
    "The users must be unique and randomly selected, as it is a prerequisite for testing"
   ]
  },
  {
   "cell_type": "markdown",
   "id": "8176a12e",
   "metadata": {},
   "source": [
    "**b. Collect & Prepare the Data for the Experiment**  \n",
    "\n",
    "- Usually at this point you would work with your team to set up the two themes on the website. Each Theme will be shown to a random group of users, until the estimated sample size is achieved. The data will be collected  \n",
    "\n",
    "- We will assume the data has been collected. Since our required sample size is predetermined both themes must have the same sample size and observations must be random.  \n",
    "\n",
    "- Random Sampling eliminates bias. This is good because we want the results of the A/B test to be representative of the entire population of users rather than the sample itself"
   ]
  },
  {
   "cell_type": "code",
   "execution_count": 204,
   "id": "b589a2b8",
   "metadata": {},
   "outputs": [
    {
     "name": "stdout",
     "output_type": "stream",
     "text": [
      "<class 'pandas.core.frame.DataFrame'>\n",
      "RangeIndex: 1000 entries, 0 to 999\n",
      "Data columns (total 10 columns):\n",
      " #   Column              Non-Null Count  Dtype  \n",
      "---  ------              --------------  -----  \n",
      " 0   Theme               1000 non-null   object \n",
      " 1   Click Through Rate  1000 non-null   float64\n",
      " 2   Conversion Rate     1000 non-null   float64\n",
      " 3   Bounce Rate         1000 non-null   float64\n",
      " 4   Scroll_Depth        1000 non-null   float64\n",
      " 5   Age                 1000 non-null   int64  \n",
      " 6   Location            1000 non-null   object \n",
      " 7   Session_Duration    1000 non-null   int64  \n",
      " 8   Purchases           1000 non-null   object \n",
      " 9   Added_to_Cart       1000 non-null   object \n",
      "dtypes: float64(4), int64(2), object(4)\n",
      "memory usage: 78.2+ KB\n"
     ]
    }
   ],
   "source": [
    "# load data\n",
    "data = pd.read_csv('./hypothesis_testing/website_ab_test.csv')\n",
    "data.info()"
   ]
  },
  {
   "cell_type": "code",
   "execution_count": null,
   "id": "33971109",
   "metadata": {},
   "outputs": [
    {
     "data": {
      "text/plain": [
       "np.int64(0)"
      ]
     },
     "execution_count": 213,
     "metadata": {},
     "output_type": "execute_result"
    }
   ],
   "source": [
    "# check for duplicated observations\n",
    "data.duplicated().sum()"
   ]
  },
  {
   "cell_type": "code",
   "execution_count": null,
   "id": "99b13023",
   "metadata": {},
   "outputs": [
    {
     "name": "stdout",
     "output_type": "stream",
     "text": [
      "<class 'pandas.core.frame.DataFrame'>\n",
      "Index: 486 entries, 20 to 306\n",
      "Data columns (total 10 columns):\n",
      " #   Column              Non-Null Count  Dtype  \n",
      "---  ------              --------------  -----  \n",
      " 0   Theme               486 non-null    object \n",
      " 1   Click Through Rate  486 non-null    float64\n",
      " 2   Conversion Rate     486 non-null    float64\n",
      " 3   Bounce Rate         486 non-null    float64\n",
      " 4   Scroll_Depth        486 non-null    float64\n",
      " 5   Age                 486 non-null    int64  \n",
      " 6   Location            486 non-null    object \n",
      " 7   Session_Duration    486 non-null    int64  \n",
      " 8   Purchases           486 non-null    object \n",
      " 9   Added_to_Cart       486 non-null    object \n",
      "dtypes: float64(4), int64(2), object(4)\n",
      "memory usage: 41.8+ KB\n"
     ]
    }
   ],
   "source": [
    "# random sample of light theme users (control group)\n",
    "control_group = data[data['Theme'] == 'Light Theme'].sample(n=int(sample_size),\n",
    "                                                            random_state=0)\n",
    "control_group.info()"
   ]
  },
  {
   "cell_type": "code",
   "execution_count": 207,
   "id": "afb47026",
   "metadata": {},
   "outputs": [
    {
     "name": "stdout",
     "output_type": "stream",
     "text": [
      "<class 'pandas.core.frame.DataFrame'>\n",
      "Index: 486 entries, 582 to 506\n",
      "Data columns (total 10 columns):\n",
      " #   Column              Non-Null Count  Dtype  \n",
      "---  ------              --------------  -----  \n",
      " 0   Theme               486 non-null    object \n",
      " 1   Click Through Rate  486 non-null    float64\n",
      " 2   Conversion Rate     486 non-null    float64\n",
      " 3   Bounce Rate         486 non-null    float64\n",
      " 4   Scroll_Depth        486 non-null    float64\n",
      " 5   Age                 486 non-null    int64  \n",
      " 6   Location            486 non-null    object \n",
      " 7   Session_Duration    486 non-null    int64  \n",
      " 8   Purchases           486 non-null    object \n",
      " 9   Added_to_Cart       486 non-null    object \n",
      "dtypes: float64(4), int64(2), object(4)\n",
      "memory usage: 41.8+ KB\n"
     ]
    }
   ],
   "source": [
    "# random sample of dark theme users (treatment group)\n",
    "treatment_group = data[data['Theme'] == 'Dark Theme'].sample(n=int(sample_size),\n",
    "                                                            random_state=0)\n",
    "treatment_group.info()"
   ]
  },
  {
   "cell_type": "code",
   "execution_count": 258,
   "id": "9aeb4cbe",
   "metadata": {},
   "outputs": [],
   "source": [
    "# reset index\n",
    "control_group.reset_index(drop=True, inplace=True)\n",
    "\n",
    "treatment_group.reset_index(drop=True, inplace=True)"
   ]
  },
  {
   "cell_type": "code",
   "execution_count": 219,
   "id": "b2c02ad8",
   "metadata": {},
   "outputs": [
    {
     "data": {
      "text/html": [
       "<div>\n",
       "<style scoped>\n",
       "    .dataframe tbody tr th:only-of-type {\n",
       "        vertical-align: middle;\n",
       "    }\n",
       "\n",
       "    .dataframe tbody tr th {\n",
       "        vertical-align: top;\n",
       "    }\n",
       "\n",
       "    .dataframe thead th {\n",
       "        text-align: right;\n",
       "    }\n",
       "</style>\n",
       "<table border=\"1\" class=\"dataframe\">\n",
       "  <thead>\n",
       "    <tr style=\"text-align: right;\">\n",
       "      <th></th>\n",
       "      <th>Theme</th>\n",
       "      <th>Click Through Rate</th>\n",
       "      <th>Conversion Rate</th>\n",
       "      <th>Bounce Rate</th>\n",
       "      <th>Scroll_Depth</th>\n",
       "      <th>Age</th>\n",
       "      <th>Location</th>\n",
       "      <th>Session_Duration</th>\n",
       "      <th>Purchases</th>\n",
       "      <th>Added_to_Cart</th>\n",
       "    </tr>\n",
       "  </thead>\n",
       "  <tbody>\n",
       "    <tr>\n",
       "      <th>0</th>\n",
       "      <td>Light Theme</td>\n",
       "      <td>0.274706</td>\n",
       "      <td>0.200325</td>\n",
       "      <td>0.524075</td>\n",
       "      <td>64.618741</td>\n",
       "      <td>36</td>\n",
       "      <td>Bangalore</td>\n",
       "      <td>72</td>\n",
       "      <td>No</td>\n",
       "      <td>Yes</td>\n",
       "    </tr>\n",
       "    <tr>\n",
       "      <th>1</th>\n",
       "      <td>Light Theme</td>\n",
       "      <td>0.153946</td>\n",
       "      <td>0.302460</td>\n",
       "      <td>0.612945</td>\n",
       "      <td>62.397559</td>\n",
       "      <td>22</td>\n",
       "      <td>Chennai</td>\n",
       "      <td>1677</td>\n",
       "      <td>Yes</td>\n",
       "      <td>No</td>\n",
       "    </tr>\n",
       "    <tr>\n",
       "      <th>2</th>\n",
       "      <td>Light Theme</td>\n",
       "      <td>0.255670</td>\n",
       "      <td>0.013316</td>\n",
       "      <td>0.405900</td>\n",
       "      <td>40.648417</td>\n",
       "      <td>22</td>\n",
       "      <td>New Delhi</td>\n",
       "      <td>837</td>\n",
       "      <td>Yes</td>\n",
       "      <td>Yes</td>\n",
       "    </tr>\n",
       "    <tr>\n",
       "      <th>3</th>\n",
       "      <td>Light Theme</td>\n",
       "      <td>0.422875</td>\n",
       "      <td>0.016021</td>\n",
       "      <td>0.770185</td>\n",
       "      <td>40.596282</td>\n",
       "      <td>43</td>\n",
       "      <td>Chennai</td>\n",
       "      <td>351</td>\n",
       "      <td>No</td>\n",
       "      <td>Yes</td>\n",
       "    </tr>\n",
       "    <tr>\n",
       "      <th>4</th>\n",
       "      <td>Light Theme</td>\n",
       "      <td>0.110167</td>\n",
       "      <td>0.345370</td>\n",
       "      <td>0.514572</td>\n",
       "      <td>34.091682</td>\n",
       "      <td>52</td>\n",
       "      <td>Kolkata</td>\n",
       "      <td>120</td>\n",
       "      <td>Yes</td>\n",
       "      <td>Yes</td>\n",
       "    </tr>\n",
       "  </tbody>\n",
       "</table>\n",
       "</div>"
      ],
      "text/plain": [
       "         Theme  Click Through Rate  Conversion Rate  Bounce Rate  \\\n",
       "0  Light Theme            0.274706         0.200325     0.524075   \n",
       "1  Light Theme            0.153946         0.302460     0.612945   \n",
       "2  Light Theme            0.255670         0.013316     0.405900   \n",
       "3  Light Theme            0.422875         0.016021     0.770185   \n",
       "4  Light Theme            0.110167         0.345370     0.514572   \n",
       "\n",
       "   Scroll_Depth  Age   Location  Session_Duration Purchases Added_to_Cart  \n",
       "0     64.618741   36  Bangalore                72        No           Yes  \n",
       "1     62.397559   22    Chennai              1677       Yes            No  \n",
       "2     40.648417   22  New Delhi               837       Yes           Yes  \n",
       "3     40.596282   43    Chennai               351        No           Yes  \n",
       "4     34.091682   52    Kolkata               120       Yes           Yes  "
      ]
     },
     "execution_count": 219,
     "metadata": {},
     "output_type": "execute_result"
    }
   ],
   "source": [
    "# join control & treatment groups into one dataframe\n",
    "ab_test = pd.concat([control_group, treatment_group], axis=0)\n",
    "ab_test.reset_index(drop=True, inplace=True)\n",
    "ab_test.head()"
   ]
  },
  {
   "cell_type": "markdown",
   "id": "2a0da43d",
   "metadata": {},
   "source": [
    "**c. Data Analysis & Viz: understand the data**  \n",
    "\n",
    "We analyze the distribution of Click Through Rate between Dark Theme and Light Theme"
   ]
  },
  {
   "cell_type": "code",
   "execution_count": 224,
   "id": "7103de44",
   "metadata": {},
   "outputs": [
    {
     "data": {
      "text/html": [
       "<div>\n",
       "<style scoped>\n",
       "    .dataframe tbody tr th:only-of-type {\n",
       "        vertical-align: middle;\n",
       "    }\n",
       "\n",
       "    .dataframe tbody tr th {\n",
       "        vertical-align: top;\n",
       "    }\n",
       "\n",
       "    .dataframe thead th {\n",
       "        text-align: right;\n",
       "    }\n",
       "</style>\n",
       "<table border=\"1\" class=\"dataframe\">\n",
       "  <thead>\n",
       "    <tr style=\"text-align: right;\">\n",
       "      <th></th>\n",
       "      <th>count</th>\n",
       "      <th>mean</th>\n",
       "      <th>std</th>\n",
       "      <th>min</th>\n",
       "      <th>25%</th>\n",
       "      <th>50%</th>\n",
       "      <th>75%</th>\n",
       "      <th>max</th>\n",
       "    </tr>\n",
       "    <tr>\n",
       "      <th>Theme</th>\n",
       "      <th></th>\n",
       "      <th></th>\n",
       "      <th></th>\n",
       "      <th></th>\n",
       "      <th></th>\n",
       "      <th></th>\n",
       "      <th></th>\n",
       "      <th></th>\n",
       "    </tr>\n",
       "  </thead>\n",
       "  <tbody>\n",
       "    <tr>\n",
       "      <th>Dark Theme</th>\n",
       "      <td>486.0</td>\n",
       "      <td>0.264747</td>\n",
       "      <td>0.141189</td>\n",
       "      <td>0.016901</td>\n",
       "      <td>0.143243</td>\n",
       "      <td>0.276748</td>\n",
       "      <td>0.382541</td>\n",
       "      <td>0.499989</td>\n",
       "    </tr>\n",
       "    <tr>\n",
       "      <th>Light Theme</th>\n",
       "      <td>486.0</td>\n",
       "      <td>0.247109</td>\n",
       "      <td>0.137157</td>\n",
       "      <td>0.010767</td>\n",
       "      <td>0.139769</td>\n",
       "      <td>0.236563</td>\n",
       "      <td>0.353777</td>\n",
       "      <td>0.499328</td>\n",
       "    </tr>\n",
       "  </tbody>\n",
       "</table>\n",
       "</div>"
      ],
      "text/plain": [
       "             count      mean       std       min       25%       50%  \\\n",
       "Theme                                                                  \n",
       "Dark Theme   486.0  0.264747  0.141189  0.016901  0.143243  0.276748   \n",
       "Light Theme  486.0  0.247109  0.137157  0.010767  0.139769  0.236563   \n",
       "\n",
       "                  75%       max  \n",
       "Theme                            \n",
       "Dark Theme   0.382541  0.499989  \n",
       "Light Theme  0.353777  0.499328  "
      ]
     },
     "execution_count": 224,
     "metadata": {},
     "output_type": "execute_result"
    }
   ],
   "source": [
    "ab_test.groupby('Theme')['Click Through Rate'].describe()"
   ]
  },
  {
   "cell_type": "markdown",
   "id": "d0ad814e",
   "metadata": {},
   "source": [
    "Dark Theme appears to have a higher mean. Indicating it resulted in users clicking more  than Light Theme users.  \n"
   ]
  },
  {
   "cell_type": "code",
   "execution_count": 220,
   "id": "e5e89afa",
   "metadata": {},
   "outputs": [],
   "source": [
    "# define colors to use for plotting\n",
    "palette = {'Dark Theme': 'yellow', 'Light Theme': 'gray'}"
   ]
  },
  {
   "cell_type": "code",
   "execution_count": 225,
   "id": "4d72f502",
   "metadata": {},
   "outputs": [
    {
     "data": {
      "image/png": "[encoded data removed]",
      "text/plain": [
       "<Figure size 1000x700 with 1 Axes>"
      ]
     },
     "metadata": {},
     "output_type": "display_data"
    }
   ],
   "source": [
    "# plot distribution CTR for the two themes\n",
    "plt.figure(figsize=(10,7))\n",
    "ax = sns.histplot(data=ab_test, x='Click Through Rate', hue='Theme', multiple='stack', kde=True, palette=palette)\n",
    "ax.set_title('Distribution of CTR across Themes')\n",
    "ax.set_xlabel('Theme')\n",
    "ax.set_ylabel('Click Through Rate')\n",
    "\n",
    "plt.show()"
   ]
  },
  {
   "cell_type": "markdown",
   "id": "fce3acf1",
   "metadata": {},
   "source": [
    "Both themes show a significant overlap across range of CTR values.  \n",
    "Suggesting for many users, theme might not have drastic different on their CTR\n",
    "\n",
    "Light Theme appear to be generally taller in lower CTR ranges (0.0 to 0.2).  \n",
    "Indicating higher frequency of Light Theme users show lower Click Through Rate  \n",
    "\n",
    "Conversely Dark Theme appears taller in higher CTR ranges (0.2 to 0.4)\n",
    "Indicating higher frequency of Dark Theme users show relatively higher Click Through Rate"
   ]
  },
  {
   "cell_type": "code",
   "execution_count": 226,
   "id": "0acf9f48",
   "metadata": {},
   "outputs": [
    {
     "name": "stderr",
     "output_type": "stream",
     "text": [
      "C:\\Users\\o.01\\AppData\\Local\\Temp\\ipykernel_24684\\708918901.py:3: FutureWarning: \n",
      "\n",
      "Passing `palette` without assigning `hue` is deprecated and will be removed in v0.14.0. Assign the `x` variable to `hue` and set `legend=False` for the same effect.\n",
      "\n",
      "  ax = sns.boxplot(x='Theme', y='Click Through Rate', data=ab_test, palette=palette)\n"
     ]
    },
    {
     "data": {
      "image/png": "[encoded data removed]",
      "text/plain": [
       "<Figure size 1000x600 with 1 Axes>"
      ]
     },
     "metadata": {},
     "output_type": "display_data"
    }
   ],
   "source": [
    "# boxplot: CTR for the two themes\n",
    "plt.figure(figsize=(10, 6))\n",
    "ax = sns.boxplot(x='Theme', y='Click Through Rate', data=ab_test, palette=palette)\n",
    "ax.set_title('Distribution of CTR across Themes')\n",
    "ax.set_xlabel('Theme')\n",
    "ax.set_ylabel('Click Through Rate')\n",
    "plt.show()"
   ]
  },
  {
   "cell_type": "markdown",
   "id": "a1a5172d",
   "metadata": {},
   "source": [
    "The median (horizontal line inside the box) of Dark Theme appears to be slight higher than that of Light Theme.  \n",
    "We can conclude users exposed to Dark theme click more often than users on Light Theme.  \n",
    "\n",
    "The IQR (middle 50% of the data) for Dark Theme is slightly wider than for Light Theme.  \n",
    "Meaning the middle 50% of Dark Theme users exhibit a higher variability than that of Light Theme.  \n",
    "\n",
    "This visual summary suggests a potential positive impact of the Dark Theme on the median CTR\n"
   ]
  },
  {
   "cell_type": "markdown",
   "id": "fb0a3a56",
   "metadata": {},
   "source": [
    "**d. Testing the Hypothesis: is the difference in Themes statistically significant?**  \n",
    "\n",
    "We will use a two sample t-test to determine whether the observed difference between Dark Theme and Light Theme.  \n",
    "That is, will there be an impact on CTR if we change Light Theme to Dark Theme?"
   ]
  },
  {
   "cell_type": "code",
   "execution_count": 228,
   "id": "e1d2486a",
   "metadata": {},
   "outputs": [],
   "source": [
    "# function for performing two sample t-test on the numeric columns\n",
    "def perform_t_test(data, variable, alpha=.05):\n",
    "    \"\"\"\n",
    "    Performs two sample t-test on the specified variable from the dataset for the Themes, Light theme and Dark theme.\n",
    "\n",
    "    Args:\n",
    "         data: the dataset for performing the test procedure.\n",
    "         variable: the specified variable for the test to be performed on for the two groups\n",
    "         alpha: the level of significance for the test\n",
    "\n",
    "    Return:\n",
    "        conclusion on whether the test was significant.\n",
    "    \"\"\"\n",
    "    # get the values of a specified variable for both themes\n",
    "    control_group = data[data['Theme'] == 'Light Theme'][variable]\n",
    "    treatment_group = data[data['Theme'] == 'Dark Theme'][variable]\n",
    "    \n",
    "    # perform two sample t-test\n",
    "    test_statistic, p_value = ttest_ind(control_group, treatment_group, equal_var=False)\n",
    "\n",
    "    # compare p-value with level of significance(α)\n",
    "    if p_value <= alpha:\n",
    "        print(\n",
    "            f\"Test Statistic: {test_statistic}.\\n\"\n",
    "            f\"p_value: {p_value}.\\n\\n\"\n",
    "            f\"Reject the null hypothesis.\\n\"\n",
    "            f\"With a p-value of {p_value:.4f} (less than {alpha}), there is convincing evidence\\n\"\n",
    "            f\"that a statistically significant difference exists in '{variable}'\\n\"\n",
    "            f\"between the Light Theme and Dark Theme.\\n\"\n",
    "        )\n",
    "    else:\n",
    "        print(\n",
    "            f\"Test Statistic: {test_statistic}.\\n\"\n",
    "            f\"p_value: {p_value}.\\n\\n\"\n",
    "            f\"Fail to reject the null hypothesis.\\n\"\n",
    "            f\"Since the p-value of {p_value:.4f} is greater than the alpha value of {alpha},\\n\"\n",
    "            f\"there is not enough evidence to conclude that a statistically significant\\n\"\n",
    "            f\"difference exists in '{variable}' between the Light Theme and Dark Theme.\\n\"\n",
    "        )"
   ]
  },
  {
   "cell_type": "code",
   "execution_count": 229,
   "id": "b14d691b",
   "metadata": {},
   "outputs": [
    {
     "name": "stdout",
     "output_type": "stream",
     "text": [
      "Test Statistic: -1.9753735216804147.\n",
      "p_value: 0.04850914941754544.\n",
      "\n",
      "Reject the null hypothesis.\n",
      "With a p-value of 0.0485 (less than 0.05), there is convincing evidence\n",
      "that a statistically significant difference exists in 'Click Through Rate'\n",
      "between the Light Theme and Dark Theme.\n",
      "\n"
     ]
    }
   ],
   "source": [
    "# test hypothesis\n",
    "perform_t_test(ab_test, 'Click Through Rate')"
   ]
  },
  {
   "cell_type": "code",
   "execution_count": null,
   "id": "82f1d8eb",
   "metadata": {},
   "outputs": [
    {
     "data": {
      "text/plain": [
       "np.float64(0.12676233829504047)"
      ]
     },
     "execution_count": 231,
     "metadata": {},
     "output_type": "execute_result"
    }
   ],
   "source": [
    "# return effect size (Cohen's d)\n",
    "control_group_mean = control_group['Click Through Rate'].mean()\n",
    "treatment_group_mean = treatment_group['Click Through Rate'].mean()     # mean CTR for themes\n",
    "\n",
    "expected_increase = treatment_group_mean - control_group_mean\n",
    "\n",
    "effect_size = expected_increase / (ab_test['Conversion Rate'].std())\n",
    "effect_size"
   ]
  },
  {
   "cell_type": "markdown",
   "id": "45f23fa1",
   "metadata": {},
   "source": [
    "**e. Confidence Interval**  \n",
    "\n",
    "The confidence interval is the range  of values within which the true difference in Themes is likely to lie at a given confidence level.  \n",
    "Conventionally, confidence level = 95%  \n",
    "\n",
    "If the range of the confidence interval falls above the MDE (the least effect we expect to see), at the specified confidence level, it supports the test is **practically significant.**   \n",
    "In this case it strengthens the case for changing From Light Theme to Dark Theme.  \n",
    "The interval will not contain zero(0) in this case.  \n",
    "\n",
    "\n",
    "If it does contain zero, we cannot rule out the possibility that there is no real difference between the Themes for CTR."
   ]
  },
  {
   "cell_type": "code",
   "execution_count": null,
   "id": "d581a136",
   "metadata": {},
   "outputs": [],
   "source": [
    "def confidence_interval(group_1, group_2, confidence_level=0.95):\n",
    "    \"\"\"\n",
    "    Calculates the confidence interval for the difference in means between Light Theme and Dark Theme\n",
    "\n",
    "    Args:\n",
    "        group_1 (pd.Series): Data for the first group.\n",
    "        group_2 (pd.Series): Data for the second group.\n",
    "        confidence_level (float, optional): The desired confidence level. Defaults to 0.95.\n",
    "\n",
    "    Returns:\n",
    "        tuple: A tuple containing the lower and upper bounds of the confidence\n",
    "               interval for the difference in means\n",
    "    \"\"\"\n",
    "    mean1 = np.mean(group_1)\n",
    "    mean2 = np.mean(group_2)\n",
    "    mean_difference = abs(mean1 - mean2)\n",
    "\n",
    "    std1 = np.std(group_1, ddof=1)  # Sample standard deviation\n",
    "    std2 = np.std(group_2, ddof=1)\n",
    "\n",
    "    n1 = len(group_1)\n",
    "    n2 = len(group_2)\n",
    "\n",
    "    # Calculate the standard error \n",
    "    standard_error = np.sqrt((std1**2 / n1) + (std2**2 / n2))\n",
    "\n",
    "    # Degrees of freedom\n",
    "    v1 = std1**2 / n1\n",
    "    v2 = std2**2 / n2\n",
    "    dof = np.floor(((v1 + v2)**2)/((v1**2/(n1-1)) + (v2**2/(n2-1))))\n",
    "\n",
    "    # Calculate the t-statistic for the given confidence level\n",
    "    alpha = 1 - confidence_level\n",
    "    t_critical = stats.t.ppf(1 - (alpha / 2), df=dof)\n",
    "\n",
    "    # Calculate the margin of error\n",
    "    margin_of_error = t_critical * standard_error\n",
    "\n",
    "    lower_boundary = mean_difference - margin_of_error\n",
    "    upper_boundary = mean_difference + margin_of_error\n",
    "\n",
    "    # Calculate the confidence interval\n",
    "    confidence_interval = (lower_boundary, upper_boundary)\n",
    "\n",
    "    print(f\"We are 95% confident that the true mean difference in CTR between Light and Dark Themes\\n\"\n",
    "          f\"lie between {round(confidence_interval[0], 4)} and {round(confidence_interval[1], 4)}\")"
   ]
  },
  {
   "cell_type": "code",
   "execution_count": 291,
   "id": "3eba8e25",
   "metadata": {},
   "outputs": [
    {
     "name": "stdout",
     "output_type": "stream",
     "text": [
      "We are 95% confident that the true increase in CTR with the Dark Theme\n",
      "\n",
      "lies between 0.0001 and 0.0352\n"
     ]
    }
   ],
   "source": [
    "confidence_interval(control_group['Click Through Rate'], treatment_group['Click Through Rate'])"
   ]
  },
  {
   "cell_type": "markdown",
   "id": "400ad484",
   "metadata": {},
   "source": [
    "The mean difference between Light Theme and Dark Theme falls within the confidence interval.  \n",
    "Also the entire interval does not contain zero.  \n",
    "All suggesting that the Dark Theme likely does lead to a slightly higher average CTR than the Light Theme, supporting the test was **statistically significant**"
   ]
  },
  {
   "cell_type": "markdown",
   "id": "02746789",
   "metadata": {},
   "source": [
    "### Step 3: Interpret results"
   ]
  },
  {
   "cell_type": "code",
   "execution_count": 238,
   "id": "5c8546b0",
   "metadata": {},
   "outputs": [
    {
     "data": {
      "text/plain": [
       "np.float64(1.2936508499180543)"
      ]
     },
     "execution_count": 238,
     "metadata": {},
     "output_type": "execute_result"
    }
   ],
   "source": [
    "# what effect size would be if the mean difference was equal to the MDE=0.18\n",
    "corresponding_eff_size_to_mde = delta / (ab_test['Conversion Rate'].std())\n",
    "corresponding_eff_size_to_mde"
   ]
  },
  {
   "cell_type": "markdown",
   "id": "2c95b91e",
   "metadata": {},
   "source": [
    "**Conclusion**  \n",
    "\n",
    "An effect size of 0.127 falls into the **small effect** cateogry (|d| < 0.2).  \n",
    "While the difference between Themes is statistically significant for CTR, the magnitude of the difference is relatively small  \n",
    "\n",
    "Furthermore, the observed effect (0.127) is much smaller than the effect size representing the pre-defined\n",
    "MDE(0.1294).  \n",
    "\n",
    "The entire confidence interval (0.0001157 to 0.035160) does not fall above the MDE=0.18. Which would have validated the **practical significance** of the test.\n",
    "\n",
    "While the test was statistically significant, the effect doesn't appear to be practically significant based on the initial MDE(.18)\n"
   ]
  },
  {
   "cell_type": "markdown",
   "id": "aafe004c",
   "metadata": {},
   "source": [
    "**Next Steps...**"
   ]
  },
  {
   "cell_type": "markdown",
   "id": "c418c724",
   "metadata": {},
   "source": [
    "is to carefully consider whether this small lift in CTR is practically significant for the business goals.  \n",
    "The following points must be considered  \n",
    "\n",
    "- **Magnitude of the Lift:**  \n",
    "The current effect size translates to a relatively small increase in CTR.  \n",
    "To understand the real-world impact, consider the absolute difference in means which was approximately 0.018.  \n",
    "With the help of business reps, we will need to assess if this 1.8% lift in CTR is substantial enough to justify a switch to the Dark Theme.  \n",
    "\n",
    "- **Cost of Implementation:**  \n",
    "With this small lift in CTR, We have to consider if the cost of changing to Dark Theme might outweigh the benefit.  \n",
    "With collaboration with the business reps if it turns out to outweigh the benefit, the default theme will be kept.  \n",
    "\n",
    "- **Long-Term Impact:**  \n",
    "We will need a reason to believe this small increase in CTR will be sustained over time.  \n",
    "Else it won't be worth changing themes.\n",
    "\n",
    "- **Impact on Other Metrics:**  \n",
    "We will have to analyze if the Dark Theme had any positive or negative impact on other key metrics.  \n",
    "A small gain in CTR might not be worth it if it significantly hurts other important user behaviors."
   ]
  }
 ],
 "metadata": {
  "kernelspec": {
   "display_name": "ds_env",
   "language": "python",
   "name": "python3"
  },
  "language_info": {
   "codemirror_mode": {
    "name": "ipython",
    "version": 3
   },
   "file_extension": ".py",
   "mimetype": "text/x-python",
   "name": "python",
   "nbconvert_exporter": "python",
   "pygments_lexer": "ipython3",
   "version": "3.10.0"
  }
 },
 "nbformat": 4,
 "nbformat_minor": 5
}
