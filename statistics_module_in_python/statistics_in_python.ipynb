{
 "cells": [
  {
   "cell_type": "markdown",
   "metadata": {},
   "source": [
    "# Statistics Essentials With Python's Built-in Statistics Module"
   ]
  },
  {
   "cell_type": "markdown",
   "metadata": {},
   "source": [
    "Explore the different functions in python's built-in Statistics module for performing fundamental statistical measures"
   ]
  },
  {
   "cell_type": "code",
   "execution_count": 32,
   "metadata": {},
   "outputs": [],
   "source": [
    "import statistics as stats\n",
    "\n",
    "import random\n",
    "import numpy as np\n",
    "import matplotlib.pyplot as plt"
   ]
  },
  {
   "cell_type": "markdown",
   "metadata": {},
   "source": [
    "### 1. Measures of Central Tendency ###"
   ]
  },
  {
   "cell_type": "markdown",
   "metadata": {},
   "source": [
    "### **a. mean**  \n",
    "Generally for small datasets  \n",
    "The mean function in statistics accepts various data types including lists, tuples and numpy arrays"
   ]
  },
  {
   "cell_type": "code",
   "execution_count": 126,
   "metadata": {},
   "outputs": [],
   "source": [
    "# synthesize data\n",
    "np.random.seed(0)\n",
    "data = np.random.randint(low=1, high=100, size=1000)"
   ]
  },
  {
   "cell_type": "code",
   "execution_count": 127,
   "metadata": {},
   "outputs": [
    {
     "name": "stdout",
     "output_type": "stream",
     "text": [
      "number of data points: 1000\n",
      "maximum value: 99\n",
      "minimum value: 1\n"
     ]
    }
   ],
   "source": [
    "# return characteristics of the data\n",
    "print(f\"number of data points: {data.shape[0]}\")\n",
    "print(f\"maximum value: {np.max(data)}\")\n",
    "print(f\"minimum value: {np.min(data)}\")"
   ]
  },
  {
   "cell_type": "code",
   "execution_count": 10,
   "metadata": {},
   "outputs": [
    {
     "name": "stdout",
     "output_type": "stream",
     "text": [
      "mean: 49\n"
     ]
    }
   ],
   "source": [
    "# calculate mean\n",
    "mean_of_data = stats.mean(data)\n",
    "print(f\"mean: {mean_of_data}\")"
   ]
  },
  {
   "cell_type": "markdown",
   "metadata": {},
   "source": [
    "This function can also handle complex data structures, like a list of dictionaries.  \n",
    "This is shown below"
   ]
  },
  {
   "cell_type": "code",
   "execution_count": 11,
   "metadata": {},
   "outputs": [],
   "source": [
    "# synthesize dictionary data\n",
    "dictionary = [{'value': 7}, {'value': 5}, {'value': 9}, {'value': 10}, {'value': 12}]"
   ]
  },
  {
   "cell_type": "code",
   "execution_count": 12,
   "metadata": {},
   "outputs": [
    {
     "name": "stdout",
     "output_type": "stream",
     "text": [
      "mean of dictionary data: 8.6\n"
     ]
    }
   ],
   "source": [
    "# calculate mean of dictionary data\n",
    "mean_of_dictionary = stats.mean([dict['value'] for dict in dictionary])\n",
    "print(f\"mean of dictionary data: {mean_of_dictionary}\")"
   ]
  },
  {
   "cell_type": "markdown",
   "metadata": {},
   "source": [
    "### **b. fmean**  \n",
    "The fmean function is a faster alternative to the mean function, with a focus on performance adn handling float data.  \n",
    "It is useful when you have a large amount of data and you want to calculate the mean quickly. "
   ]
  },
  {
   "cell_type": "code",
   "execution_count": 21,
   "metadata": {},
   "outputs": [],
   "source": [
    "# synthesize data\n",
    "np.random.seed(0)\n",
    "data = np.abs(np.random.normal(loc=0, scale=1, size=10_000))"
   ]
  },
  {
   "cell_type": "code",
   "execution_count": 22,
   "metadata": {},
   "outputs": [
    {
     "name": "stdout",
     "output_type": "stream",
     "text": [
      "number of data points: 10000\n",
      "maximum value: 3.8016602149671153\n",
      "minimum value: 6.835257171676114e-05\n"
     ]
    }
   ],
   "source": [
    "# return characteristics of the data\n",
    "print(f\"number of data points: {data.shape[0]}\")\n",
    "print(f\"maximum value: {np.max(data)}\")\n",
    "print(f\"minimum value: {np.min(data)}\")"
   ]
  },
  {
   "cell_type": "code",
   "execution_count": 23,
   "metadata": {},
   "outputs": [
    {
     "name": "stdout",
     "output_type": "stream",
     "text": [
      "fmean: 0.7865388050206191\n"
     ]
    }
   ],
   "source": [
    "# calculate fmean\n",
    "fmean_of_data = stats.fmean(data)\n",
    "print(f\"fmean: {fmean_of_data}\")"
   ]
  },
  {
   "cell_type": "markdown",
   "metadata": {},
   "source": [
    "### **c. geometric_mean**  \n",
    "Useful when the values of the data are related by multiplication, like growth rates or ratios,.  \n",
    "It accepts  iterable data structures such as list or tuple filled with only positive values"
   ]
  },
  {
   "cell_type": "code",
   "execution_count": 36,
   "metadata": {},
   "outputs": [
    {
     "name": "stdout",
     "output_type": "stream",
     "text": [
      "[np.float64(3.6604823287099912), np.float64(4.883696059579829), np.float64(4.0192001973444125), np.float64(3.6356364873903133), np.float64(2.946775184172209), np.float64(4.331105403004187), np.float64(3.0187850364219484), np.float64(6.631947112835644), np.float64(7.511790883882996), np.float64(2.7484224966103503), np.float64(5.576317069496994), np.float64(3.5362917377009935), np.float64(3.7845228107623967), np.float64(7.0322755213929495), np.float64(1.599465800684248), np.float64(1.644698626010957), np.float64(1.4646398897856068), np.float64(5.9858229780349195), np.float64(5.446735754818027), np.float64(6.386521534067262), np.float64(7.709011368548294), np.float64(5.64861201715258), np.float64(3.1463919616664073), np.float64(5.4691739204363845), np.float64(1.7359026757983465), np.float64(4.286507160299176), np.float64(1.8130053954710248), np.float64(7.26857369158523), np.float64(3.493373270423149), np.float64(2.9012102477751958), np.float64(2.2367267656865395), np.float64(5.4098336165815), np.float64(3.1174703322228945), np.float64(3.7870773080104865), np.float64(1.461018555549456), np.float64(4.124126949623012), np.float64(4.0847259999004795), np.float64(4.11911667702035), np.float64(7.2569845385219915), np.float64(4.60930983417761), np.float64(2.6367663776559236), np.float64(3.015881795054637), np.float64(4.737342533757213), np.float64(1.569781409304149), np.float64(4.490626671638474), np.float64(4.520851954249245), np.float64(2.0363088626564925), np.float64(1.7682420122046123), np.float64(2.4428594784888737), np.float64(2.6560400984956147), np.float64(3.798663520465113), np.float64(3.024095675058378), np.float64(7.840439866856737), np.float64(1.6877626438130713), np.float64(2.0310023236904255), np.float64(1.870305308427334), np.float64(4.385589604846604), np.float64(2.1934913336208894), np.float64(3.172844753204625), np.float64(2.1600489104390457), np.float64(1.8627369544157144), np.float64(1.7123028064997465), np.float64(4.4101385289238175), np.float64(1.7968343068092139), np.float64(1.9881903728605315), np.float64(2.6792197696082747), np.float64(5.866431026311673), np.float64(1.673366188060377), np.float64(6.041313562417208), np.float64(1.670460674696678), np.float64(7.680225456491901), np.float64(3.1857388431727887), np.float64(7.684240753274442), np.float64(4.03372798631284), np.float64(5.0917406912136665), np.float64(1.5135847736361474), np.float64(2.3085986886294583), np.float64(1.7416942721139694), np.float64(2.362559222242208), np.float64(1.7372667579179617), np.float64(2.453698433335443), np.float64(2.8992052767194445), np.float64(1.5804865313395058), np.float64(4.695179448742493), np.float64(3.775070626343352), np.float64(2.2399611764331504), np.float64(3.501856907355198), np.float64(1.6642259005242832), np.float64(3.8367007367427433), np.float64(7.077503187803197), np.float64(2.4561903670475), np.float64(4.495638246428743), np.float64(1.777062787727686), np.float64(4.893334852687357), np.float64(2.3351500112128356), np.float64(1.9425859132663947), np.float64(3.9075987624523054), np.float64(1.4643585732746904), np.float64(5.947775002986265), np.float64(1.4257674504827933), np.float64(4.577441162367168), np.float64(2.2579600064767287), np.float64(5.055960019496405), np.float64(7.4926255986496), np.float64(2.1763081684478967), np.float64(3.838102754119595), np.float64(3.9452174724146842), np.float64(3.8122157354202937), np.float64(2.0816161808658213), np.float64(7.371062180975304), np.float64(3.0690953046908747), np.float64(6.130571971890388), np.float64(4.752538085573761), np.float64(2.3678741037893745), np.float64(5.793738416158464), np.float64(2.8113524911832597), np.float64(6.51045328240307), np.float64(3.8722770626420906), np.float64(6.517589118484265), np.float64(4.6956633348465795), np.float64(4.969620546469948), np.float64(3.371313884121646), np.float64(7.4137788809046326), np.float64(4.316839630604567), np.float64(2.947797908669159), np.float64(4.044560763053703), np.float64(1.462040216061226), np.float64(2.384913666242337), np.float64(4.439612757065242), np.float64(2.3378688797146974), np.float64(4.126843052729729), np.float64(2.97300471725179), np.float64(1.7884194740638304), np.float64(2.3713453999886305), np.float64(3.7971375913709124), np.float64(3.9372324852985674), np.float64(3.825937011829771), np.float64(4.386292585971237), np.float64(4.377958184907223), np.float64(2.986687072741683), np.float64(6.687034171293136), np.float64(2.673824314245847), np.float64(3.0097889210717765), np.float64(6.633675252199827), np.float64(5.717898349781957), np.float64(4.788990118832236), np.float64(1.6824541838526779), np.float64(6.958163283755425), np.float64(4.875679346332018), np.float64(7.984032074219199)]\n"
     ]
    }
   ],
   "source": [
    "# synthesize data geometrically related data\n",
    "np.random.seed(0)\n",
    "base = 2  # Base for multiplication\n",
    "size = 150  # Size of the list\n",
    "data = [base ** i for i in np.random.uniform(0.5, 3, size)]  # Exponents between 0.5 and 3\n",
    "\n",
    "print(data)"
   ]
  },
  {
   "cell_type": "code",
   "execution_count": 38,
   "metadata": {},
   "outputs": [
    {
     "name": "stdout",
     "output_type": "stream",
     "text": [
      "number of data points: 150\n",
      "maximum value: 7.984032074219199\n",
      "minimum value: 1.4257674504827933\n"
     ]
    }
   ],
   "source": [
    "# return characteristics of the data\n",
    "print(f\"number of data points: {len(data)}\")\n",
    "print(f\"maximum value: {np.max(data)}\")\n",
    "print(f\"minimum value: {np.min(data)}\")"
   ]
  },
  {
   "cell_type": "code",
   "execution_count": 26,
   "metadata": {},
   "outputs": [
    {
     "name": "stdout",
     "output_type": "stream",
     "text": [
      "geometric mean: 3.4240468243797904\n"
     ]
    }
   ],
   "source": [
    "# return geometric mean of the data\n",
    "geometric_mean = stats.geometric_mean(data)\n",
    "print(f\"geometric mean: {geometric_mean}\")"
   ]
  },
  {
   "cell_type": "markdown",
   "metadata": {},
   "source": [
    "What happens when the arithmetic mean is used ?"
   ]
  },
  {
   "cell_type": "code",
   "execution_count": 28,
   "metadata": {},
   "outputs": [
    {
     "name": "stdout",
     "output_type": "stream",
     "text": [
      "geometric mean: 3.8358157289142536\n"
     ]
    }
   ],
   "source": [
    "mean = stats.mean(data)\n",
    "print(f\"geometric mean: {mean}\")"
   ]
  },
  {
   "cell_type": "markdown",
   "metadata": {},
   "source": [
    "Since the data is geometrically related  the geometric mean (3.4240468243797904) is the correct measure of central tendency. The arithmetic mean (3.8358157289142536) is not particularly incorrect, but it is less meaningful for this type of data."
   ]
  },
  {
   "cell_type": "markdown",
   "metadata": {},
   "source": [
    "### **c. harmonic_mean**  \n",
    "Also useful for calculating the average of rates or ratios, such as speed or density  "
   ]
  },
  {
   "cell_type": "code",
   "execution_count": 39,
   "metadata": {},
   "outputs": [
    {
     "name": "stdout",
     "output_type": "stream",
     "text": [
      "[10, 20, 30, 40, 50, 60, 70, 80, 90, 100]\n"
     ]
    }
   ],
   "source": [
    "# synthesize data\n",
    "data = [10 * i for i in range(1, 11)]\n",
    "print(data)"
   ]
  },
  {
   "cell_type": "code",
   "execution_count": 40,
   "metadata": {},
   "outputs": [
    {
     "name": "stdout",
     "output_type": "stream",
     "text": [
      "number of data points: 10\n",
      "maximum value: 100\n",
      "minimum value: 10\n"
     ]
    }
   ],
   "source": [
    "# return characteristics of the data\n",
    "print(f\"number of data points: {len(data)}\")\n",
    "print(f\"maximum value: {np.max(data)}\")\n",
    "print(f\"minimum value: {np.min(data)}\")"
   ]
  },
  {
   "cell_type": "code",
   "execution_count": 30,
   "metadata": {},
   "outputs": [
    {
     "name": "stdout",
     "output_type": "stream",
     "text": [
      "harmonic mean: 34.14171521474055\n"
     ]
    }
   ],
   "source": [
    "# return harmonic mean of the data\n",
    "harmonic_mean = stats.harmonic_mean(data)\n",
    "print(f\"harmonic mean: {harmonic_mean}\")"
   ]
  },
  {
   "cell_type": "markdown",
   "metadata": {},
   "source": [
    "### **d. median**  \n",
    "Is a measure of the center of data  \n",
    "Unlike the mean, the median is not affected by outliers.  \n",
    "It is best used as a measure of central tendency when the data is skewed."
   ]
  },
  {
   "cell_type": "code",
   "execution_count": 53,
   "metadata": {},
   "outputs": [],
   "source": [
    "# synthesize skewed data\n",
    "np.random.seed(0)\n",
    "data = np.random.randint(low=1, high=100, size=100)\n",
    "\n",
    "# skew the data\n",
    "data = (data ** 0.5).astype(int)"
   ]
  },
  {
   "cell_type": "code",
   "execution_count": 51,
   "metadata": {},
   "outputs": [
    {
     "name": "stdout",
     "output_type": "stream",
     "text": [
      "number of data points: 100\n",
      "maximum value: 9\n",
      "minimum value: 1\n"
     ]
    }
   ],
   "source": [
    "# return characteristics of the data\n",
    "print(f\"number of data points: {data.shape[0]}\")\n",
    "print(f\"maximum value: {np.max(data)}\")\n",
    "print(f\"minimum value: {np.min(data)}\")"
   ]
  },
  {
   "cell_type": "code",
   "execution_count": 55,
   "metadata": {},
   "outputs": [
    {
     "data": {
      "text/plain": [
       "Text(0, 0.5, 'Frequency')"
      ]
     },
     "execution_count": 55,
     "metadata": {},
     "output_type": "execute_result"
    },
    {
     "data": {
      "image/png": "[encoded data removed]",
      "text/plain": [
       "<Figure size 640x480 with 1 Axes>"
      ]
     },
     "metadata": {},
     "output_type": "display_data"
    }
   ],
   "source": [
    "# illustrate skewed data\n",
    "plt.hist(data, bins=20, color='blue', alpha=0.4)\n",
    "plt.title('Data Distribution')\n",
    "plt.xlabel('Value')\n",
    "plt.ylabel('Frequency')"
   ]
  },
  {
   "cell_type": "markdown",
   "metadata": {},
   "source": [
    "The data appears left skewed, as the data extends long to the left"
   ]
  },
  {
   "cell_type": "code",
   "execution_count": 56,
   "metadata": {},
   "outputs": [
    {
     "name": "stdout",
     "output_type": "stream",
     "text": [
      "median: 6.0\n"
     ]
    }
   ],
   "source": [
    "# return median of data\n",
    "median_of_data = stats.median(data)\n",
    "print(f\"median: {median_of_data}\")"
   ]
  },
  {
   "cell_type": "markdown",
   "metadata": {},
   "source": [
    "Note that for large data the numpy median function is faster and more efficient than the statistics median function."
   ]
  },
  {
   "cell_type": "markdown",
   "metadata": {},
   "source": [
    "### **e. median_low**  and **median_high**\n",
    "Median Low returns the lower median when the dataset has an even number of elements.\n",
    "\n",
    "Median High returns the higher median"
   ]
  },
  {
   "cell_type": "code",
   "execution_count": 59,
   "metadata": {},
   "outputs": [],
   "source": [
    "# synthesize data\n",
    "data = [1, 3, 3, 6, 8, 9]"
   ]
  },
  {
   "cell_type": "code",
   "execution_count": null,
   "metadata": {},
   "outputs": [
    {
     "name": "stdout",
     "output_type": "stream",
     "text": [
      "median low: 3\n"
     ]
    }
   ],
   "source": [
    "# return median_low\n",
    "median_low = stats.median_low(data)\n",
    "print(f\"median low: {median_low}\")"
   ]
  },
  {
   "cell_type": "code",
   "execution_count": 61,
   "metadata": {},
   "outputs": [
    {
     "name": "stdout",
     "output_type": "stream",
     "text": [
      "median high: 6\n"
     ]
    }
   ],
   "source": [
    "# return median_high\n",
    "median_high = stats.median_high(data)\n",
    "print(f\"median high: {median_high}\")"
   ]
  },
  {
   "cell_type": "markdown",
   "metadata": {},
   "source": [
    "### **f. mode**\n",
    "Finds the most frequently occurring value in a dataset  \n",
    "Data can be of any structure e.g. list or tuple, and either be numeric or categoric"
   ]
  },
  {
   "cell_type": "code",
   "execution_count": 94,
   "metadata": {},
   "outputs": [],
   "source": [
    "# synthesize skewed data\n",
    "np.random.seed(0)\n",
    "data = np.random.randint(low=1, high=100, size=100)"
   ]
  },
  {
   "cell_type": "code",
   "execution_count": 95,
   "metadata": {},
   "outputs": [
    {
     "name": "stdout",
     "output_type": "stream",
     "text": [
      "number of data points: 100\n",
      "maximum value: 92\n",
      "minimum value: 1\n"
     ]
    }
   ],
   "source": [
    "# return characteristics of the data\n",
    "print(f\"number of data points: {data.shape[0]}\")\n",
    "print(f\"maximum value: {np.max(data)}\")\n",
    "print(f\"minimum value: {np.min(data)}\")"
   ]
  },
  {
   "cell_type": "code",
   "execution_count": 96,
   "metadata": {},
   "outputs": [
    {
     "name": "stdout",
     "output_type": "stream",
     "text": [
      "mode: 89\n"
     ]
    }
   ],
   "source": [
    "# return mode\n",
    "mode_of_data = stats.mode(data)\n",
    "print(f\"mode: {mode_of_data}\")"
   ]
  },
  {
   "cell_type": "markdown",
   "metadata": {},
   "source": [
    "### **g. multi_mode**\n",
    "Finds all the values that have the highest frequency in a dataset  "
   ]
  },
  {
   "cell_type": "code",
   "execution_count": null,
   "metadata": {},
   "outputs": [],
   "source": [
    "# synthesize data\n",
    "np.random.seed(0)\n",
    "data = np.random.randint(low=1, high=100, size=90)\n",
    "\n",
    "data = np.append(data, [48, 10] * 3)"
   ]
  },
  {
   "cell_type": "code",
   "execution_count": 109,
   "metadata": {},
   "outputs": [
    {
     "name": "stdout",
     "output_type": "stream",
     "text": [
      "number of data points: 96\n",
      "maximum value: 92\n",
      "minimum value: 1\n"
     ]
    }
   ],
   "source": [
    "# return characteristics of the data\n",
    "print(f\"number of data points: {data.shape[0]}\")\n",
    "print(f\"maximum value: {np.max(data)}\")\n",
    "print(f\"minimum value: {np.min(data)}\")"
   ]
  },
  {
   "cell_type": "code",
   "execution_count": 111,
   "metadata": {},
   "outputs": [
    {
     "name": "stdout",
     "output_type": "stream",
     "text": [
      "most frequent values: [np.int64(48), np.int64(10)]\n"
     ]
    }
   ],
   "source": [
    "# return most frequent values\n",
    "multimode_of_data = stats.multimode(data)\n",
    "print(f\"most frequent values: {multimode_of_data}\")"
   ]
  },
  {
   "cell_type": "markdown",
   "metadata": {},
   "source": [
    "### **h. quantiles**\n",
    "This measure divides a dataset into equal-sized intervals  \n",
    "\n",
    "The most recent synthesized data will be used"
   ]
  },
  {
   "cell_type": "code",
   "execution_count": 124,
   "metadata": {},
   "outputs": [
    {
     "name": "stdout",
     "output_type": "stream",
     "text": [
      "quartiles: [np.float64(21.25), np.float64(47.5), np.float64(69.75)]\n"
     ]
    }
   ],
   "source": [
    "quartiles = stats.quantiles(data, n=4, method='exclusive')\n",
    "print(f\"quartiles: {quartiles}\")"
   ]
  },
  {
   "cell_type": "markdown",
   "metadata": {},
   "source": [
    "the first value is the first quartile.  \n",
    "the second value is the median  \n",
    "the third value is the third quartile"
   ]
  },
  {
   "cell_type": "markdown",
   "metadata": {},
   "source": [
    "## 2. Measures of Spread ###"
   ]
  },
  {
   "cell_type": "markdown",
   "metadata": {},
   "source": [
    "### **a. pstdev**\n",
    "This function calculates the standard deviation of a population.  \n",
    "It is used when you have the entire population data and want to calculate the standard deviation.  "
   ]
  },
  {
   "cell_type": "code",
   "execution_count": 147,
   "metadata": {},
   "outputs": [],
   "source": [
    "# synthesize population data\n",
    "np.random.seed(0)\n",
    "\n",
    "data = np.random.randint(low=1, high=100, size=1000)"
   ]
  },
  {
   "cell_type": "code",
   "execution_count": 145,
   "metadata": {},
   "outputs": [
    {
     "data": {
      "text/plain": [
       "array([45, 48, 65, 68, 68, 10, 84, 22, 37, 88, 71, 89, 89, 13, 59, 66, 40,\n",
       "       88, 47, 89, 82, 38, 26, 78, 73, 10, 21, 81, 70, 80, 48, 65, 83, 89,\n",
       "       50, 30, 20, 20, 15, 40, 33, 66, 10, 58, 33, 32, 75, 24, 36, 76, 56,\n",
       "       29, 35,  1,  1, 37, 54,  6, 39, 18, 80,  5, 43, 59, 32,  2, 66, 42,\n",
       "       58, 36, 12, 47, 83, 92,  1, 15, 54, 13, 43, 85, 76, 69,  7, 69, 48,\n",
       "        4, 77, 53, 79, 16, 21, 59, 24, 80, 14, 86, 49, 50, 70, 42, 36, 65,\n",
       "       96, 70, 95,  1, 51, 37, 35, 49, 94,  4, 99, 43, 78, 22, 74,  1, 11,\n",
       "       44, 59, 24, 60,  3, 99, 63, 36, 95, 68, 83, 47, 21, 82, 51, 28, 15,\n",
       "       42, 59, 66, 37, 11, 87, 44, 12,  3, 52, 81, 33, 55,  1, 39, 20, 47,\n",
       "       43, 57, 61, 78, 31, 25,  3,  4, 95, 99, 14, 41, 73, 20, 96, 73, 27,\n",
       "       67, 53, 68, 62, 15, 97,  5, 68, 12, 87, 78, 76, 57, 17, 25, 30, 22,\n",
       "       26, 81, 61, 62, 84, 34, 33, 71, 86, 32, 14, 72, 57, 25, 80, 42, 19,\n",
       "       41, 55, 80, 12, 39, 94,  2, 96, 45, 89, 25, 68, 83,  4, 77, 36, 87,\n",
       "       62, 70, 88, 44, 33, 12, 85, 11, 55, 38, 29,  3, 28, 84, 90, 24, 54,\n",
       "       52, 47, 21, 54, 30, 68, 36, 40, 10, 74, 42, 24,  4, 47, 91, 51,  4,\n",
       "       32, 10, 11, 28, 46, 72, 40, 62, 86, 98, 45, 35, 35, 89, 34,  6, 37,\n",
       "        1, 76, 35, 70, 54, 81, 63,  9, 62,  2, 82, 36, 92, 41, 37, 49, 26,\n",
       "       68, 36, 31, 30, 34, 19, 18, 94, 85,  3, 70, 13, 45, 67, 92, 86, 40,\n",
       "       40, 76, 23, 31, 18, 71, 72, 19, 93, 44, 84, 50, 42, 94, 47, 22, 74,\n",
       "       90, 97, 92, 74, 29, 82, 59,  1, 87, 64, 17, 37, 95, 25, 64, 68, 52,\n",
       "        9, 57, 92, 94, 88, 33, 20, 73, 72, 88, 14, 59, 82, 56, 65, 76, 93,\n",
       "       37, 26, 33, 43, 15, 87, 29, 21, 83, 69, 23, 84,  8, 73, 62, 14,  6,\n",
       "        1,  9, 80, 80, 54, 12,  5, 40, 93, 46, 27, 75, 53, 50, 92, 52, 19,\n",
       "       35, 52, 31, 54, 59, 44, 56, 19, 46, 88, 66, 71, 54, 49, 95, 60, 81,\n",
       "       27, 36, 59, 50, 74, 45, 14, 71, 39, 40,  9, 14,  8, 81, 23, 80, 90,\n",
       "        9,  7, 82, 72, 85, 90, 67, 61, 17, 57, 24, 25,  5, 50, 88, 31, 55,\n",
       "       26, 21, 98, 58, 24, 28, 30, 34, 54, 52, 87,  8, 10, 55,  1, 84, 37,\n",
       "       82, 21,  4, 43, 66, 21, 37, 69, 81, 48, 11, 95, 92, 44, 64, 32, 21,\n",
       "       71, 10, 61, 92, 36, 84, 77, 19, 75, 99, 98, 44,  4, 13, 59,  2,  1,\n",
       "       40, 25, 59, 37, 70,  7,  4, 99, 41, 61, 34, 29, 69, 27, 97, 52, 74,\n",
       "       54, 70, 34,  8, 95, 73, 85,  8, 68, 86, 92, 68, 85, 72, 84, 96,  1,\n",
       "        6, 92, 31, 74, 84,  8, 22, 93,  9, 44, 47,  1, 52, 39, 90, 75, 99,\n",
       "       88, 97, 84, 27, 79, 33, 71, 98, 45, 60, 58, 51, 46,  5, 58, 94, 92,\n",
       "       18, 36, 67, 21, 46, 58, 80, 37, 63,  5, 78, 31, 88, 99, 36, 74, 91,\n",
       "       56, 27, 23, 77, 80, 99, 91, 52, 47, 81, 62, 61, 48,  1, 11, 76, 14,\n",
       "       72, 95,  7, 46, 31, 16, 42, 39, 54, 44, 83,  8, 93, 66, 42, 67, 93,\n",
       "       79, 92, 32, 94, 51, 47, 94, 34, 13, 97, 81, 67, 73, 11, 91, 28, 57,\n",
       "       66, 65, 70, 89, 35, 80,  4, 61, 38, 44, 84, 89, 71, 21,  7, 29,  7,\n",
       "       67, 93, 93, 70, 74, 55, 78, 22, 32, 82, 36,  9, 26, 22, 46, 87, 17,\n",
       "       26, 38,  2,  6, 71, 13, 91, 75, 55, 79, 63, 73, 72, 46,  6, 48, 60,\n",
       "       43, 68, 11, 58, 92, 90,  4, 79, 83, 70, 59,  5, 18, 70, 64, 95, 25,\n",
       "        4, 70, 41, 37, 59, 50, 56, 25, 34, 19, 98, 79,  8, 54, 47, 34, 82,\n",
       "       30, 13, 47, 33, 35, 88, 26, 47, 53, 65, 77, 74, 19,  5,  8,  4, 49,\n",
       "       77, 38, 49, 83, 52, 50, 72, 91, 50, 30,  4, 75, 85, 66, 21, 81, 43,\n",
       "       29, 27, 88, 53, 49, 67, 10,  3, 90, 91, 69, 11, 13, 98, 38, 40, 33,\n",
       "       34, 27, 90, 51, 89, 83, 21, 95, 29, 73, 19, 26, 25, 40, 29, 25, 19,\n",
       "       68, 45, 84, 46, 55,  1, 11, 68,  7, 92, 58, 71, 20, 35, 51, 21, 44,\n",
       "        1, 67, 98, 13, 16, 34, 24, 13,  6, 39,  2, 11,  7,  7, 39, 76, 86,\n",
       "       51, 52,  3, 77, 30, 10, 73,  6, 54, 66, 44, 80, 63, 77, 48, 77, 22,\n",
       "       19, 90, 14, 95, 93, 86,  7, 49, 41, 27, 31,  6, 16, 64, 38, 60, 96,\n",
       "       97, 81, 33, 63, 11, 13, 94, 65, 30, 91, 23, 20,  6, 37, 84,  6, 93,\n",
       "       77, 27, 84, 13,  8, 53, 81, 30,  1, 88, 80, 75,  4, 62, 68, 17, 74,\n",
       "       85, 57, 63, 57, 49, 18, 58, 10, 63, 80, 79, 34,  5, 17, 72, 63, 24,\n",
       "       92,  8, 23, 99, 31, 81, 28, 48, 12, 88, 79, 31, 91, 35, 55, 82, 36,\n",
       "       72, 60, 38, 69, 54, 14, 20,  9, 97, 82, 70,  2, 30,  6, 81, 41, 23,\n",
       "       31, 20,  5, 21, 75, 68, 87, 61, 94, 42, 41, 61, 82, 52, 41, 60, 95,\n",
       "       30, 98, 95, 38, 89, 17, 40, 30, 66, 24, 73,  1, 88, 38, 64, 27, 90,\n",
       "       90,  7, 89, 80, 42, 18, 81, 44, 70, 20, 23, 12, 12, 34,  8, 27, 49,\n",
       "       72, 55, 97, 83, 88, 22,  3,  9, 11,  6, 39, 39, 66, 60],\n",
       "      dtype=int32)"
      ]
     },
     "execution_count": 145,
     "metadata": {},
     "output_type": "execute_result"
    }
   ],
   "source": [
    "data"
   ]
  },
  {
   "cell_type": "code",
   "execution_count": 130,
   "metadata": {},
   "outputs": [
    {
     "name": "stdout",
     "output_type": "stream",
     "text": [
      "number of data points: 1000\n",
      "maximum value: 99\n",
      "minimum value: 1\n"
     ]
    }
   ],
   "source": [
    "# return characteristics of the data\n",
    "print(f\"number of data points: {data.shape[0]}\")\n",
    "print(f\"maximum value: {np.max(data)}\")\n",
    "print(f\"minimum value: {np.min(data)}\")"
   ]
  },
  {
   "cell_type": "code",
   "execution_count": 143,
   "metadata": {},
   "outputs": [
    {
     "name": "stdout",
     "output_type": "stream",
     "text": [
      "population standard deviation: 28.827070610799147\n"
     ]
    }
   ],
   "source": [
    "# return population standard deviation\n",
    "population_stdev = stats.pstdev(data)\n",
    "print(f\"population standard deviation: {population_stdev}\")"
   ]
  },
  {
   "cell_type": "markdown",
   "metadata": {},
   "source": [
    "### **b. pvariance**\n",
    "This function calculates the variance of a population."
   ]
  },
  {
   "cell_type": "code",
   "execution_count": null,
   "metadata": {},
   "outputs": [
    {
     "name": "stdout",
     "output_type": "stream",
     "text": [
      "population variance: 831\n"
     ]
    }
   ],
   "source": [
    "# return population variance\n",
    "population_variance = stats.pvariance(data)\n",
    "print(f\"population variance: {population_variance}\")"
   ]
  },
  {
   "cell_type": "markdown",
   "metadata": {},
   "source": [
    "### **c. stdev**\n",
    "This function calculates the standard deviation of sample data.  "
   ]
  },
  {
   "cell_type": "code",
   "execution_count": 149,
   "metadata": {},
   "outputs": [
    {
     "name": "stdout",
     "output_type": "stream",
     "text": [
      "[np.int32(1), np.int32(74), np.int32(64), np.int32(51), np.int32(26), np.int32(22), np.int32(69), np.int32(66), np.int32(47), np.int32(33), np.int32(8), np.int32(19), np.int32(92), np.int32(43), np.int32(57), np.int32(5), np.int32(99), np.int32(37), np.int32(37), np.int32(50), np.int32(30), np.int32(9), np.int32(89), np.int32(39), np.int32(70), np.int32(17), np.int32(54), np.int32(28), np.int32(77), np.int32(26), np.int32(18), np.int32(55), np.int32(34), np.int32(18), np.int32(4), np.int32(66), np.int32(95), np.int32(93), np.int32(58), np.int32(7), np.int32(49), np.int32(78), np.int32(97), np.int32(16), np.int32(66), np.int32(54), np.int32(13), np.int32(46), np.int32(18), np.int32(92), np.int32(88), np.int32(92), np.int32(29), np.int32(29), np.int32(62), np.int32(78), np.int32(36), np.int32(38), np.int32(57), np.int32(14), np.int32(59), np.int32(92), np.int32(44), np.int32(31), np.int32(65), np.int32(27), np.int32(98), np.int32(67), np.int32(80), np.int32(82), np.int32(83), np.int32(13), np.int32(6), np.int32(44), np.int32(21), np.int32(45), np.int32(5), np.int32(40), np.int32(1), np.int32(13), np.int32(33), np.int32(45), np.int32(1), np.int32(62), np.int32(95), np.int32(90), np.int32(17), np.int32(6), np.int32(81), np.int32(45), np.int32(59), np.int32(82), np.int32(72), np.int32(4), np.int32(19), np.int32(13), np.int32(88), np.int32(73), np.int32(36), np.int32(60), np.int32(64), np.int32(41), np.int32(79), np.int32(99), np.int32(12), np.int32(89), np.int32(92), np.int32(98), np.int32(9), np.int32(62), np.int32(82), np.int32(32), np.int32(51), np.int32(4), np.int32(17), np.int32(4), np.int32(88), np.int32(35), np.int32(6), np.int32(62), np.int32(88), np.int32(68), np.int32(67), np.int32(19), np.int32(21), np.int32(77), np.int32(30), np.int32(68), np.int32(89), np.int32(23), np.int32(61), np.int32(23), np.int32(33), np.int32(63), np.int32(90), np.int32(79), np.int32(11), np.int32(47), np.int32(40), np.int32(93), np.int32(7), np.int32(55), np.int32(79), np.int32(30), np.int32(79), np.int32(81), np.int32(74), np.int32(17), np.int32(36), np.int32(83), np.int32(80), np.int32(81), np.int32(20), np.int32(72), np.int32(69), np.int32(89), np.int32(39), np.int32(90), np.int32(72), np.int32(80), np.int32(76), np.int32(52), np.int32(65), np.int32(44), np.int32(45), np.int32(65), np.int32(83), np.int32(92), np.int32(60), np.int32(2), np.int32(12), np.int32(11), np.int32(4), np.int32(73), np.int32(30), np.int32(26), np.int32(65), np.int32(95), np.int32(74), np.int32(18), np.int32(91), np.int32(91), np.int32(11), np.int32(39), np.int32(54), np.int32(27), np.int32(40), np.int32(30), np.int32(94), np.int32(77), np.int32(21), np.int32(36), np.int32(46), np.int32(59), np.int32(99), np.int32(41), np.int32(6), np.int32(82), np.int32(75), np.int32(38)]\n"
     ]
    }
   ],
   "source": [
    "# return sample data from population data\n",
    "sample_data = random.sample(list(data), 200)\n",
    "print(sample_data)"
   ]
  },
  {
   "cell_type": "code",
   "execution_count": null,
   "metadata": {},
   "outputs": [
    {
     "name": "stdout",
     "output_type": "stream",
     "text": [
      "number of data points: 200\n",
      "maximum value: 99\n",
      "minimum value: 1\n"
     ]
    }
   ],
   "source": [
    "# return characteristics of the sample data\n",
    "print(f\"number of data points: {len(sample_data)}\")\n",
    "print(f\"maximum value: {np.max(sample_data)}\")\n",
    "print(f\"minimum value: {np.min(sample_data)}\")"
   ]
  },
  {
   "cell_type": "code",
   "execution_count": 152,
   "metadata": {},
   "outputs": [
    {
     "name": "stdout",
     "output_type": "stream",
     "text": [
      "sample standard deviation: 29.359836511806396\n"
     ]
    }
   ],
   "source": [
    "# return sample standard deviation\n",
    "sample_stdev = stats.stdev(sample_data)\n",
    "print(f\"sample standard deviation: {sample_stdev}\")"
   ]
  },
  {
   "cell_type": "markdown",
   "metadata": {},
   "source": [
    "### **d. variance**\n",
    "calculates the variance of sample data.  "
   ]
  },
  {
   "cell_type": "code",
   "execution_count": 153,
   "metadata": {},
   "outputs": [
    {
     "name": "stdout",
     "output_type": "stream",
     "text": [
      "sample variance: 862\n"
     ]
    }
   ],
   "source": [
    "# return sample variance\n",
    "sample_variance = stats.variance(sample_data)\n",
    "print(f\"sample variance: {sample_variance}\")"
   ]
  },
  {
   "cell_type": "markdown",
   "metadata": {},
   "source": [
    "## 3. Relations Between Two Variables ###"
   ]
  },
  {
   "cell_type": "markdown",
   "metadata": {},
   "source": [
    "### **a. covariance**\n",
    "measures the extent to which two variables change together.  \n",
    "It helps determine whether an increase in one variable corresponds to an increase or decrease in another variable.  "
   ]
  },
  {
   "cell_type": "code",
   "execution_count": 156,
   "metadata": {},
   "outputs": [],
   "source": [
    "# synthesize data\n",
    "data_1 = [i for i in range(1, 101) if i % 2 == 0]\n",
    "data_2 = [i for i in range(1, 101) if i % 2 != 0]"
   ]
  },
  {
   "cell_type": "code",
   "execution_count": null,
   "metadata": {},
   "outputs": [
    {
     "name": "stdout",
     "output_type": "stream",
     "text": [
      "[2, 4, 6, 8, 10, 12, 14, 16, 18, 20, 22, 24, 26, 28, 30, 32, 34, 36, 38, 40, 42, 44, 46, 48, 50, 52, 54, 56, 58, 60, 62, 64, 66, 68, 70, 72, 74, 76, 78, 80, 82, 84, 86, 88, 90, 92, 94, 96, 98, 100]\n",
      "[1, 3, 5, 7, 9, 11, 13, 15, 17, 19, 21, 23, 25, 27, 29, 31, 33, 35, 37, 39, 41, 43, 45, 47, 49, 51, 53, 55, 57, 59, 61, 63, 65, 67, 69, 71, 73, 75, 77, 79, 81, 83, 85, 87, 89, 91, 93, 95, 97, 99]\n"
     ]
    }
   ],
   "source": [
    "# output synthesized data\n",
    "print(data_1)\n",
    "print(data_2)"
   ]
  },
  {
   "cell_type": "code",
   "execution_count": 158,
   "metadata": {},
   "outputs": [
    {
     "name": "stdout",
     "output_type": "stream",
     "text": [
      "covariance: 850.0\n"
     ]
    }
   ],
   "source": [
    "# calculate covariance\n",
    "covariance = stats.covariance(data_1, data_2)\n",
    "print(f\"covariance: {covariance}\")"
   ]
  },
  {
   "cell_type": "markdown",
   "metadata": {},
   "source": [
    "A positive covariance value indicates the variables tend to move in the same direction  \n",
    "A negative covariance value indicates they tend to move in opposite directions.  \n",
    "A covariance value close to zero indicates that there is no linear relationship between the two variables."
   ]
  },
  {
   "cell_type": "markdown",
   "metadata": {},
   "source": [
    "### **b. linear_regression**\n",
    "Performs a simple linear regression on two datasets.  \n",
    "It employes the least squares method to find the best-fitting line through the data points.  \n",
    "Useful for basic trend analysis and prediction."
   ]
  },
  {
   "cell_type": "code",
   "execution_count": null,
   "metadata": {},
   "outputs": [],
   "source": [
    "# synthesize data\n",
    "x = np.array([1, 2, 3, 4, 5])   # independent variable\n",
    "y = np.array([3, 6, 8, 9, 12])  # dependent variable"
   ]
  },
  {
   "cell_type": "code",
   "execution_count": 173,
   "metadata": {},
   "outputs": [
    {
     "name": "stdout",
     "output_type": "stream",
     "text": [
      "slope: 2.1\n",
      "intercept: 1.299999999999999\n"
     ]
    }
   ],
   "source": [
    "slope, intercept = stats.linear_regression(x, y)\n",
    "print(f\"slope: {slope}\\nintercept: {intercept}\")"
   ]
  },
  {
   "cell_type": "markdown",
   "metadata": {},
   "source": [
    "Slope indicates the change in y for a unit change in x. Hence, when x changes by 1, y changes by 2.1  \n",
    "Intercept (1.29), indicates the value of y when x is 0"
   ]
  },
  {
   "cell_type": "code",
   "execution_count": 174,
   "metadata": {},
   "outputs": [
    {
     "data": {
      "image/png": "[encoded data removed]",
      "text/plain": [
       "<Figure size 640x480 with 1 Axes>"
      ]
     },
     "metadata": {},
     "output_type": "display_data"
    }
   ],
   "source": [
    "# visualize linear regression\n",
    "\n",
    "# plot a scatter plot of the data points\n",
    "plt.scatter(x, y, color='blue', label='Data points')\n",
    "\n",
    "# plot the regression line\n",
    "plt.plot(x, slope * x + intercept, color='red', label='Regression line')\n",
    "\n",
    "# Adding labels and title\n",
    "\n",
    "plt.xlabel('X-axis')\n",
    "plt.ylabel('Y-axis')\n",
    "plt.title('Linear Regression')\n",
    "plt.legend()\n",
    "plt.show()"
   ]
  }
 ],
 "metadata": {
  "kernelspec": {
   "display_name": "ds_env",
   "language": "python",
   "name": "python3"
  },
  "language_info": {
   "codemirror_mode": {
    "name": "ipython",
    "version": 3
   },
   "file_extension": ".py",
   "mimetype": "text/x-python",
   "name": "python",
   "nbconvert_exporter": "python",
   "pygments_lexer": "ipython3",
   "version": "3.10.0"
  }
 },
 "nbformat": 4,
 "nbformat_minor": 2
}
