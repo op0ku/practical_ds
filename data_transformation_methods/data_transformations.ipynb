{
 "cells": [
  {
   "cell_type": "markdown",
   "metadata": {},
   "source": [
    "# Data Transformation Techniques for Machine Learning"
   ]
  },
  {
   "cell_type": "markdown",
   "metadata": {},
   "source": [
    "### 1. Type One: Function Transformations\n",
    "\n",
    "performing transformations on data using mathematical functions"
   ]
  },
  {
   "cell_type": "markdown",
   "metadata": {},
   "source": [
    "**a.** **Log Transformation**  \n",
    "This technique is applied to reduce the impact of extreme values.\n",
    "It makes the data close to normal distribution  \n",
    "It may not be applied to negative values  \n",
    "It works best with right-skewed data\n",
    "\n",
    "**Formula**  \n",
    "y = log_e​(x)"
   ]
  },
  {
   "cell_type": "code",
   "execution_count": 2,
   "metadata": {},
   "outputs": [],
   "source": [
    "import numpy as np\n",
    "import matplotlib.pyplot as plt\n",
    "\n",
    "# synthesize skewed data\n",
    "np.random.seed(100)\n",
    "data_original = np.random.exponential(scale=2, size=1000)"
   ]
  },
  {
   "cell_type": "code",
   "execution_count": 5,
   "metadata": {},
   "outputs": [],
   "source": [
    "# implement log transformation\n",
    "data_log_transformed = np.log(data_original)"
   ]
  },
  {
   "cell_type": "code",
   "execution_count": 6,
   "metadata": {},
   "outputs": [
    {
     "data": {
      "image/png": "[encoded data removed]",
      "text/plain": [
       "<Figure size 1000x400 with 2 Axes>"
      ]
     },
     "metadata": {},
     "output_type": "display_data"
    }
   ],
   "source": [
    "# visualize\n",
    "plt.figure(figsize=(10,4))\n",
    "\n",
    "plt.subplot(1, 2, 1)\n",
    "plt.hist(data_original, bins=30, color='skyblue', edgecolor='black')\n",
    "plt.title('Original Skewed Data')\n",
    "plt.xlabel('Value')\n",
    "plt.ylabel('Frequency')\n",
    "\n",
    "plt.subplot(1, 2, 2)\n",
    "plt.hist(data_log_transformed, bins=30, color='lightgreen', edgecolor='black')\n",
    "plt.title('Log-Transformed Data')\n",
    "plt.xlabel('Value')\n",
    "plt.ylabel('Frequency')\n",
    "\n",
    "plt.tight_layout()\n",
    "plt.show()"
   ]
  },
  {
   "cell_type": "markdown",
   "metadata": {},
   "source": [
    "The original data (left) that was skewed, now appears to be close to a normal distribution (right)"
   ]
  },
  {
   "cell_type": "markdown",
   "metadata": {},
   "source": [
    "**b.** **Reciprocal Transformation**  \n",
    "Taking the reciprocal of non-zero data points(x) and changing them to their reciprocal(1/x).  \n",
    "This is good for scaling down features containing large values  \n",
    "In right-skewed data it can spread out the small values & bring them closer together  \n",
    "\n",
    "**Formula**  \n",
    "y = 1/x\n",
    "\n",
    "- x is the original value  \n",
    "- y is the reciprocal value"
   ]
  },
  {
   "cell_type": "code",
   "execution_count": null,
   "metadata": {},
   "outputs": [],
   "source": [
    "np.random.seed(42) \n",
    "data_original = np.random.randint(1, 20, size=50)"
   ]
  },
  {
   "cell_type": "code",
   "execution_count": 30,
   "metadata": {},
   "outputs": [],
   "source": [
    "# implement reciprocal transformation\n",
    "data_reciprocal = np.reciprocal(data_original.astype(float))"
   ]
  },
  {
   "cell_type": "code",
   "execution_count": 31,
   "metadata": {},
   "outputs": [
    {
     "name": "stdout",
     "output_type": "stream",
     "text": [
      "original data:  [ 7 15 11  8  7 19 11 11  4  8  3  2 12  6  2  1 12 12 17 10 16 15 15 19\n",
      " 12  3  5 19  7  9  7 18  4 14 18  9  2 15  7 12  8 15  3 14 17  4 18  8\n",
      "  4  2]\n",
      "transformed data:  [0.14285714 0.06666667 0.09090909 0.125      0.14285714 0.05263158\n",
      " 0.09090909 0.09090909 0.25       0.125      0.33333333 0.5\n",
      " 0.08333333 0.16666667 0.5        1.         0.08333333 0.08333333\n",
      " 0.05882353 0.1        0.0625     0.06666667 0.06666667 0.05263158\n",
      " 0.08333333 0.33333333 0.2        0.05263158 0.14285714 0.11111111\n",
      " 0.14285714 0.05555556 0.25       0.07142857 0.05555556 0.11111111\n",
      " 0.5        0.06666667 0.14285714 0.08333333 0.125      0.06666667\n",
      " 0.33333333 0.07142857 0.05882353 0.25       0.05555556 0.125\n",
      " 0.25       0.5       ]\n"
     ]
    }
   ],
   "source": [
    "print('original data: ', data_original)\n",
    "print('transformed data: ', data_reciprocal)"
   ]
  },
  {
   "cell_type": "markdown",
   "metadata": {},
   "source": [
    "**c.** **Square Transformation**  \n",
    "Taking the data point and converting it to its square  \n",
    "This spreads out the data to reduce skeweness and potentially achieve a more symmetrical distribution  \n",
    "\n",
    "**Formula**  \n",
    "y = x²"
   ]
  },
  {
   "cell_type": "code",
   "execution_count": 34,
   "metadata": {},
   "outputs": [],
   "source": [
    "# synthesize data\n",
    "data = np.array([-10, -9, -8, -7, -6, -5, -4, -3, -2, -1, 0 , 1, 2, 3, 4, 5, 6, 7, 8, 9])"
   ]
  },
  {
   "cell_type": "code",
   "execution_count": 35,
   "metadata": {},
   "outputs": [],
   "source": [
    "# squaring transformation\n",
    "data_squared = np.square(data)"
   ]
  },
  {
   "cell_type": "code",
   "execution_count": 36,
   "metadata": {},
   "outputs": [
    {
     "name": "stdout",
     "output_type": "stream",
     "text": [
      "original data: [-10  -9  -8  -7  -6  -5  -4  -3  -2  -1   0   1   2   3   4   5   6   7\n",
      "   8   9]\n",
      "squared data: [100  81  64  49  36  25  16   9   4   1   0   1   4   9  16  25  36  49\n",
      "  64  81]\n"
     ]
    }
   ],
   "source": [
    "# display results\n",
    "print('original data:', data)\n",
    "print('squared data:', data_squared)"
   ]
  },
  {
   "cell_type": "markdown",
   "metadata": {},
   "source": [
    "**d.** **Reciprocal Transformation**  \n",
    "Best used too deal with right-skewed data or a few extreme outliers.  \n",
    "It takes the square root which can compress the larger values and make the distribution more symmetric  \n",
    "\n",
    "**Formula**  \n",
    "y = sqrt(x)"
   ]
  },
  {
   "cell_type": "code",
   "execution_count": 37,
   "metadata": {},
   "outputs": [],
   "source": [
    "# synthesize data\n",
    "data = np.array([4, 9, 16, 25, 36])"
   ]
  },
  {
   "cell_type": "code",
   "execution_count": 38,
   "metadata": {},
   "outputs": [],
   "source": [
    "# square root transformation\n",
    "data_sqrt = np.sqrt(data)"
   ]
  },
  {
   "cell_type": "code",
   "execution_count": 39,
   "metadata": {},
   "outputs": [
    {
     "name": "stdout",
     "output_type": "stream",
     "text": [
      "original data: [ 4  9 16 25 36]\n",
      "square-root data: [2. 3. 4. 5. 6.]\n"
     ]
    }
   ],
   "source": [
    "# display results\n",
    "print('original data:', data)\n",
    "print('square-root data:', data_sqrt)"
   ]
  },
  {
   "cell_type": "markdown",
   "metadata": {},
   "source": [
    "### Type Two: Power Transformations"
   ]
  },
  {
   "cell_type": "markdown",
   "metadata": {},
   "source": [
    "**a.** **Box-Cox Transformation**  \n",
    "Used when the data must follow a normal distribution.  \n",
    "Or when it is important to stabilize the variance of the data.  \n",
    "It has a parameter λ (lambda) used to control the transformation forms  \n",
    "λ = 1, means no change to the data  \n",
    "λ = 0, means a log transformation to the data  \n",
    "λ = any number, means power transformation to the data.  "
   ]
  },
  {
   "cell_type": "code",
   "execution_count": 1,
   "metadata": {},
   "outputs": [],
   "source": [
    "import numpy as np\n",
    "from scipy.stats import boxcox"
   ]
  },
  {
   "cell_type": "code",
   "execution_count": 2,
   "metadata": {},
   "outputs": [],
   "source": [
    "data = np.random.exponential(scale=2, size=1000)"
   ]
  },
  {
   "cell_type": "code",
   "execution_count": 4,
   "metadata": {},
   "outputs": [
    {
     "data": {
      "text/plain": [
       "(1000,)"
      ]
     },
     "execution_count": 4,
     "metadata": {},
     "output_type": "execute_result"
    }
   ],
   "source": [
    "data.shape"
   ]
  },
  {
   "cell_type": "code",
   "execution_count": null,
   "metadata": {},
   "outputs": [],
   "source": []
  }
 ],
 "metadata": {
  "kernelspec": {
   "display_name": "ds_env",
   "language": "python",
   "name": "python3"
  },
  "language_info": {
   "codemirror_mode": {
    "name": "ipython",
    "version": 3
   },
   "file_extension": ".py",
   "mimetype": "text/x-python",
   "name": "python",
   "nbconvert_exporter": "python",
   "pygments_lexer": "ipython3",
   "version": "3.10.0"
  }
 },
 "nbformat": 4,
 "nbformat_minor": 2
}
